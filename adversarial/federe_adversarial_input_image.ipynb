{
  "cells": [
    {
      "cell_type": "markdown",
      "source": [
        "## Kütüphanelerin kurulumu"
      ],
      "metadata": {
        "id": "lTJMyILxdW96"
      },
      "id": "lTJMyILxdW96"
    },
    {
      "cell_type": "code",
      "source": [
        "!pip install -q flwr[simulation] torch torchvision matplotlib"
      ],
      "metadata": {
        "id": "GV2QSOE0OZGq",
        "colab": {
          "base_uri": "https://localhost:8080/"
        },
        "outputId": "021c3876-8ce2-43fd-cd9d-1c5e7b0d3716"
      },
      "id": "GV2QSOE0OZGq",
      "execution_count": null,
      "outputs": [
        {
          "output_type": "stream",
          "name": "stdout",
          "text": [
            "\u001b[2K     \u001b[90m━━━━━━━━━━━━━━━━━━━━━━━━━━━━━━━━━━━━━━━━\u001b[0m \u001b[32m200.4/200.4 kB\u001b[0m \u001b[31m3.7 MB/s\u001b[0m eta \u001b[36m0:00:00\u001b[0m\n",
            "\u001b[2K     \u001b[90m━━━━━━━━━━━━━━━━━━━━━━━━━━━━━━━━━━━━━━━━\u001b[0m \u001b[32m2.1/2.1 MB\u001b[0m \u001b[31m37.4 MB/s\u001b[0m eta \u001b[36m0:00:00\u001b[0m\n",
            "\u001b[2K     \u001b[90m━━━━━━━━━━━━━━━━━━━━━━━━━━━━━━━━━━━━━━━━\u001b[0m \u001b[32m56.9/56.9 MB\u001b[0m \u001b[31m16.3 MB/s\u001b[0m eta \u001b[36m0:00:00\u001b[0m\n",
            "\u001b[2K     \u001b[90m━━━━━━━━━━━━━━━━━━━━━━━━━━━━━━━━━━━━━━━━\u001b[0m \u001b[32m201.4/201.4 kB\u001b[0m \u001b[31m24.2 MB/s\u001b[0m eta \u001b[36m0:00:00\u001b[0m\n",
            "\u001b[2K     \u001b[90m━━━━━━━━━━━━━━━━━━━━━━━━━━━━━━━━━━━━━━━━\u001b[0m \u001b[32m3.0/3.0 MB\u001b[0m \u001b[31m92.1 MB/s\u001b[0m eta \u001b[36m0:00:00\u001b[0m\n",
            "\u001b[2K     \u001b[90m━━━━━━━━━━━━━━━━━━━━━━━━━━━━━━━━━━━━━━━━\u001b[0m \u001b[32m98.1/98.1 kB\u001b[0m \u001b[31m5.4 MB/s\u001b[0m eta \u001b[36m0:00:00\u001b[0m\n",
            "\u001b[?25h  Installing build dependencies ... \u001b[?25l\u001b[?25hdone\n",
            "  Getting requirements to build wheel ... \u001b[?25l\u001b[?25hdone\n",
            "  Preparing metadata (pyproject.toml) ... \u001b[?25l\u001b[?25hdone\n",
            "\u001b[2K     \u001b[90m━━━━━━━━━━━━━━━━━━━━━━━━━━━━━━━━━━━━━━━━\u001b[0m \u001b[32m128.2/128.2 kB\u001b[0m \u001b[31m17.0 MB/s\u001b[0m eta \u001b[36m0:00:00\u001b[0m\n",
            "\u001b[2K     \u001b[90m━━━━━━━━━━━━━━━━━━━━━━━━━━━━━━━━━━━━━━━━\u001b[0m \u001b[32m8.7/8.7 MB\u001b[0m \u001b[31m75.7 MB/s\u001b[0m eta \u001b[36m0:00:00\u001b[0m\n",
            "\u001b[2K     \u001b[90m━━━━━━━━━━━━━━━━━━━━━━━━━━━━━━━━━━━━━━━━\u001b[0m \u001b[32m58.4/58.4 kB\u001b[0m \u001b[31m7.3 MB/s\u001b[0m eta \u001b[36m0:00:00\u001b[0m\n",
            "\u001b[2K     \u001b[90m━━━━━━━━━━━━━━━━━━━━━━━━━━━━━━━━━━━━━━━━\u001b[0m \u001b[32m468.9/468.9 kB\u001b[0m \u001b[31m44.6 MB/s\u001b[0m eta \u001b[36m0:00:00\u001b[0m\n",
            "\u001b[?25h  Building wheel for gpustat (pyproject.toml) ... \u001b[?25l\u001b[?25hdone\n"
          ]
        }
      ]
    },
    {
      "cell_type": "code",
      "source": [
        "!pip install torchattacks"
      ],
      "metadata": {
        "colab": {
          "base_uri": "https://localhost:8080/"
        },
        "id": "XAA59SI4gLCD",
        "outputId": "d7c6d82e-340e-4be0-b86a-50d25d41076b"
      },
      "id": "XAA59SI4gLCD",
      "execution_count": null,
      "outputs": [
        {
          "output_type": "stream",
          "name": "stdout",
          "text": [
            "Collecting torchattacks\n",
            "  Downloading torchattacks-3.5.1-py3-none-any.whl (142 kB)\n",
            "\u001b[2K     \u001b[90m━━━━━━━━━━━━━━━━━━━━━━━━━━━━━━━━━━━━━━━━\u001b[0m \u001b[32m142.0/142.0 kB\u001b[0m \u001b[31m2.0 MB/s\u001b[0m eta \u001b[36m0:00:00\u001b[0m\n",
            "\u001b[?25hRequirement already satisfied: torch>=1.7.1 in /usr/local/lib/python3.10/dist-packages (from torchattacks) (2.1.0+cu118)\n",
            "Requirement already satisfied: torchvision>=0.8.2 in /usr/local/lib/python3.10/dist-packages (from torchattacks) (0.16.0+cu118)\n",
            "Requirement already satisfied: scipy>=0.14.0 in /usr/local/lib/python3.10/dist-packages (from torchattacks) (1.11.3)\n",
            "Requirement already satisfied: tqdm>=4.56.1 in /usr/local/lib/python3.10/dist-packages (from torchattacks) (4.66.1)\n",
            "Collecting requests~=2.25.1 (from torchattacks)\n",
            "  Downloading requests-2.25.1-py2.py3-none-any.whl (61 kB)\n",
            "\u001b[2K     \u001b[90m━━━━━━━━━━━━━━━━━━━━━━━━━━━━━━━━━━━━━━━━\u001b[0m \u001b[32m61.2/61.2 kB\u001b[0m \u001b[31m7.2 MB/s\u001b[0m eta \u001b[36m0:00:00\u001b[0m\n",
            "\u001b[?25hRequirement already satisfied: numpy>=1.19.4 in /usr/local/lib/python3.10/dist-packages (from torchattacks) (1.23.5)\n",
            "Collecting chardet<5,>=3.0.2 (from requests~=2.25.1->torchattacks)\n",
            "  Downloading chardet-4.0.0-py2.py3-none-any.whl (178 kB)\n",
            "\u001b[2K     \u001b[90m━━━━━━━━━━━━━━━━━━━━━━━━━━━━━━━━━━━━━━━━\u001b[0m \u001b[32m178.7/178.7 kB\u001b[0m \u001b[31m7.2 MB/s\u001b[0m eta \u001b[36m0:00:00\u001b[0m\n",
            "\u001b[?25hCollecting idna<3,>=2.5 (from requests~=2.25.1->torchattacks)\n",
            "  Downloading idna-2.10-py2.py3-none-any.whl (58 kB)\n",
            "\u001b[2K     \u001b[90m━━━━━━━━━━━━━━━━━━━━━━━━━━━━━━━━━━━━━━━━\u001b[0m \u001b[32m58.8/58.8 kB\u001b[0m \u001b[31m7.7 MB/s\u001b[0m eta \u001b[36m0:00:00\u001b[0m\n",
            "\u001b[?25hCollecting urllib3<1.27,>=1.21.1 (from requests~=2.25.1->torchattacks)\n",
            "  Downloading urllib3-1.26.18-py2.py3-none-any.whl (143 kB)\n",
            "\u001b[2K     \u001b[90m━━━━━━━━━━━━━━━━━━━━━━━━━━━━━━━━━━━━━━━━\u001b[0m \u001b[32m143.8/143.8 kB\u001b[0m \u001b[31m9.1 MB/s\u001b[0m eta \u001b[36m0:00:00\u001b[0m\n",
            "\u001b[?25hRequirement already satisfied: certifi>=2017.4.17 in /usr/local/lib/python3.10/dist-packages (from requests~=2.25.1->torchattacks) (2023.7.22)\n",
            "Requirement already satisfied: filelock in /usr/local/lib/python3.10/dist-packages (from torch>=1.7.1->torchattacks) (3.12.4)\n",
            "Requirement already satisfied: typing-extensions in /usr/local/lib/python3.10/dist-packages (from torch>=1.7.1->torchattacks) (4.5.0)\n",
            "Requirement already satisfied: sympy in /usr/local/lib/python3.10/dist-packages (from torch>=1.7.1->torchattacks) (1.12)\n",
            "Requirement already satisfied: networkx in /usr/local/lib/python3.10/dist-packages (from torch>=1.7.1->torchattacks) (3.2)\n",
            "Requirement already satisfied: jinja2 in /usr/local/lib/python3.10/dist-packages (from torch>=1.7.1->torchattacks) (3.1.2)\n",
            "Requirement already satisfied: fsspec in /usr/local/lib/python3.10/dist-packages (from torch>=1.7.1->torchattacks) (2023.6.0)\n",
            "Requirement already satisfied: triton==2.1.0 in /usr/local/lib/python3.10/dist-packages (from torch>=1.7.1->torchattacks) (2.1.0)\n",
            "Requirement already satisfied: pillow!=8.3.*,>=5.3.0 in /usr/local/lib/python3.10/dist-packages (from torchvision>=0.8.2->torchattacks) (9.4.0)\n",
            "Requirement already satisfied: MarkupSafe>=2.0 in /usr/local/lib/python3.10/dist-packages (from jinja2->torch>=1.7.1->torchattacks) (2.1.3)\n",
            "Requirement already satisfied: mpmath>=0.19 in /usr/local/lib/python3.10/dist-packages (from sympy->torch>=1.7.1->torchattacks) (1.3.0)\n",
            "Installing collected packages: urllib3, idna, chardet, requests, torchattacks\n",
            "  Attempting uninstall: urllib3\n",
            "    Found existing installation: urllib3 2.0.7\n",
            "    Uninstalling urllib3-2.0.7:\n",
            "      Successfully uninstalled urllib3-2.0.7\n",
            "  Attempting uninstall: idna\n",
            "    Found existing installation: idna 3.4\n",
            "    Uninstalling idna-3.4:\n",
            "      Successfully uninstalled idna-3.4\n",
            "  Attempting uninstall: chardet\n",
            "    Found existing installation: chardet 5.2.0\n",
            "    Uninstalling chardet-5.2.0:\n",
            "      Successfully uninstalled chardet-5.2.0\n",
            "  Attempting uninstall: requests\n",
            "    Found existing installation: requests 2.31.0\n",
            "    Uninstalling requests-2.31.0:\n",
            "      Successfully uninstalled requests-2.31.0\n",
            "\u001b[31mERROR: pip's dependency resolver does not currently take into account all the packages that are installed. This behaviour is the source of the following dependency conflicts.\n",
            "bigframes 0.10.0 requires requests>=2.27.1, but you have requests 2.25.1 which is incompatible.\n",
            "google-colab 1.0.0 requires requests==2.31.0, but you have requests 2.25.1 which is incompatible.\n",
            "tweepy 4.13.0 requires requests<3,>=2.27.0, but you have requests 2.25.1 which is incompatible.\n",
            "yfinance 0.2.31 requires requests>=2.31, but you have requests 2.25.1 which is incompatible.\u001b[0m\u001b[31m\n",
            "\u001b[0mSuccessfully installed chardet-4.0.0 idna-2.10 requests-2.25.1 torchattacks-3.5.1 urllib3-1.26.18\n"
          ]
        }
      ]
    },
    {
      "cell_type": "markdown",
      "source": [
        "## Kütüphanelerin çağırılması"
      ],
      "metadata": {
        "id": "w9KtJpCldLy7"
      },
      "id": "w9KtJpCldLy7"
    },
    {
      "cell_type": "code",
      "execution_count": null,
      "id": "a766e608-7b9a-44bc-8c95-287223930047",
      "metadata": {
        "id": "a766e608-7b9a-44bc-8c95-287223930047"
      },
      "outputs": [],
      "source": [
        "from collections import OrderedDict\n",
        "from typing import List, Tuple\n",
        "import matplotlib.pyplot as plt\n",
        "import numpy as np\n",
        "import torch\n",
        "import torch.nn as nn\n",
        "import torch.nn.functional as F\n",
        "import torchvision\n",
        "import torchvision.transforms as transforms\n",
        "from torch.utils.data import DataLoader, random_split\n",
        "from torchvision.datasets import MNIST, CIFAR10\n",
        "from torchsummary import summary\n",
        "import flwr as fl\n",
        "from flwr.common import Metrics\n",
        "import torchattacks\n",
        "from torchattacks import PGD"
      ]
    },
    {
      "cell_type": "markdown",
      "source": [
        "## Veri setinin yüklenmesi, normalize edilmesi, clientlere ayırılması"
      ],
      "metadata": {
        "id": "ubCXN1Z9dgNl"
      },
      "id": "ubCXN1Z9dgNl"
    },
    {
      "cell_type": "code",
      "execution_count": null,
      "id": "bb6e29dd-8183-494b-a08e-508d9d376448",
      "metadata": {
        "id": "bb6e29dd-8183-494b-a08e-508d9d376448"
      },
      "outputs": [],
      "source": [
        "transform = transforms.Compose([transforms.ToTensor()])"
      ]
    },
    {
      "cell_type": "code",
      "execution_count": null,
      "id": "85a6a4a8-11fa-44a3-a9b4-a06836a1cbb5",
      "metadata": {
        "colab": {
          "base_uri": "https://localhost:8080/"
        },
        "id": "85a6a4a8-11fa-44a3-a9b4-a06836a1cbb5",
        "outputId": "d2f97597-5ed4-4ffd-dab0-6febd616a42a"
      },
      "outputs": [
        {
          "output_type": "stream",
          "name": "stdout",
          "text": [
            "Downloading https://www.cs.toronto.edu/~kriz/cifar-10-python.tar.gz to ./dataset/cifar-10-python.tar.gz\n"
          ]
        },
        {
          "output_type": "stream",
          "name": "stderr",
          "text": [
            "100%|██████████| 170498071/170498071 [00:03<00:00, 45367399.69it/s]\n"
          ]
        },
        {
          "output_type": "stream",
          "name": "stdout",
          "text": [
            "Extracting ./dataset/cifar-10-python.tar.gz to ./dataset\n",
            "Files already downloaded and verified\n"
          ]
        }
      ],
      "source": [
        "trainset = CIFAR10(\"./dataset\", train=True, download=True, transform=transform)\n",
        "testset = CIFAR10(\"./dataset\", train=False, download=True, transform=transform)"
      ]
    },
    {
      "cell_type": "code",
      "execution_count": null,
      "id": "f081d534-0130-4af8-9221-ac739585160d",
      "metadata": {
        "id": "f081d534-0130-4af8-9221-ac739585160d"
      },
      "outputs": [],
      "source": [
        "NUM_CLIENTS = 50"
      ]
    },
    {
      "cell_type": "code",
      "execution_count": null,
      "id": "da81ac90-c1a9-436c-9b8f-63d219fb31c3",
      "metadata": {
        "id": "da81ac90-c1a9-436c-9b8f-63d219fb31c3"
      },
      "outputs": [],
      "source": [
        "BATCH_SIZE = 8\n",
        "\n",
        "def load_datasets(trainset, testset):\n",
        "\n",
        "    train_partition_size = len(trainset) // NUM_CLIENTS\n",
        "    train_lengths = [train_partition_size] * NUM_CLIENTS\n",
        "    train_datasets = random_split(trainset, train_lengths, torch.Generator().manual_seed(42))\n",
        "    test_partition_size = len(testset) // NUM_CLIENTS\n",
        "    test_lengths = [test_partition_size] * NUM_CLIENTS\n",
        "    test_datasets = random_split(testset, test_lengths, torch.Generator().manual_seed(42))\n",
        "\n",
        "    testloaders = []\n",
        "    trainloaders = []\n",
        "    for train_ds, test_ds in zip(train_datasets, test_datasets):\n",
        "        trainloaders.append(DataLoader(train_ds, batch_size=BATCH_SIZE, shuffle=True))\n",
        "        testloaders.append(DataLoader(test_ds, batch_size=BATCH_SIZE))\n",
        "    return trainloaders, testloaders\n",
        "\n",
        "trainloaders, testloaders = load_datasets(trainset, testset)"
      ]
    },
    {
      "cell_type": "markdown",
      "source": [
        "## Mimarinin tanımlanması"
      ],
      "metadata": {
        "id": "KdS2b5oAeHwa"
      },
      "id": "KdS2b5oAeHwa"
    },
    {
      "cell_type": "code",
      "execution_count": null,
      "id": "49e0f8c4-842e-48fa-a05c-90dcbf371107",
      "metadata": {
        "id": "49e0f8c4-842e-48fa-a05c-90dcbf371107"
      },
      "outputs": [],
      "source": [
        "class Net(nn.Module):\n",
        "    def __init__(self) -> None:\n",
        "        super(Net, self).__init__()\n",
        "        self.conv1 = nn.Conv2d(3, 6, 5)\n",
        "        self.pool = nn.MaxPool2d(2, 2)\n",
        "        self.conv2 = nn.Conv2d(6, 16, 5)\n",
        "        self.fc1 = nn.Linear(16 * 5 * 5, 120)\n",
        "        self.fc2 = nn.Linear(120, 84)\n",
        "        self.fc3 = nn.Linear(84, 10)\n",
        "\n",
        "    def forward(self, x: torch.Tensor) -> torch.Tensor:\n",
        "        x = self.pool(F.relu(self.conv1(x)))\n",
        "        x = self.pool(F.relu(self.conv2(x)))\n",
        "        x = x.view(-1, 16 * 5 * 5)\n",
        "        x = F.relu(self.fc1(x))\n",
        "        x = F.relu(self.fc2(x))\n",
        "        x = self.fc3(x)\n",
        "        return x"
      ]
    },
    {
      "cell_type": "code",
      "execution_count": null,
      "id": "135c9060-9384-4416-a888-15bab3c6e7d4",
      "metadata": {
        "colab": {
          "base_uri": "https://localhost:8080/"
        },
        "id": "135c9060-9384-4416-a888-15bab3c6e7d4",
        "outputId": "31ce14eb-fa02-4c61-89c4-e2c743b0a701"
      },
      "outputs": [
        {
          "output_type": "stream",
          "name": "stdout",
          "text": [
            "----------------------------------------------------------------\n",
            "        Layer (type)               Output Shape         Param #\n",
            "================================================================\n",
            "            Conv2d-1            [-1, 6, 28, 28]             456\n",
            "         MaxPool2d-2            [-1, 6, 14, 14]               0\n",
            "            Conv2d-3           [-1, 16, 10, 10]           2,416\n",
            "         MaxPool2d-4             [-1, 16, 5, 5]               0\n",
            "            Linear-5                  [-1, 120]          48,120\n",
            "            Linear-6                   [-1, 84]          10,164\n",
            "            Linear-7                   [-1, 10]             850\n",
            "================================================================\n",
            "Total params: 62,006\n",
            "Trainable params: 62,006\n",
            "Non-trainable params: 0\n",
            "----------------------------------------------------------------\n",
            "Input size (MB): 0.01\n",
            "Forward/backward pass size (MB): 0.06\n",
            "Params size (MB): 0.24\n",
            "Estimated Total Size (MB): 0.31\n",
            "----------------------------------------------------------------\n"
          ]
        }
      ],
      "source": [
        "summary(Net(), (3,32,32))"
      ]
    },
    {
      "cell_type": "markdown",
      "source": [
        "## train, test ve eval_robust fonksiyonlarının tanımlanması"
      ],
      "metadata": {
        "id": "NAcmK6RieMsF"
      },
      "id": "NAcmK6RieMsF"
    },
    {
      "cell_type": "markdown",
      "source": [
        "Atak eval_robust fonksiyonu içerisindeki PGD fonksiyonu ile yapılmıştır."
      ],
      "metadata": {
        "id": "2hs8sRI6odK-"
      },
      "id": "2hs8sRI6odK-"
    },
    {
      "cell_type": "code",
      "execution_count": null,
      "id": "b55b86c5-b600-4001-aff1-475a8508624c",
      "metadata": {
        "id": "b55b86c5-b600-4001-aff1-475a8508624c"
      },
      "outputs": [],
      "source": [
        "def train(net, trainloader, epochs: int, verbose=False):\n",
        "    criterion = torch.nn.CrossEntropyLoss()\n",
        "    optimizer = torch.optim.Adam(net.parameters())\n",
        "    net.train()\n",
        "    for epoch in range(epochs):\n",
        "        correct, total, epoch_loss = 0, 0, 0.0\n",
        "        for images, labels in trainloader:\n",
        "            optimizer.zero_grad()\n",
        "            outputs = net(images)\n",
        "            loss = criterion(outputs, labels)\n",
        "            loss.backward()\n",
        "            optimizer.step()\n",
        "\n",
        "            epoch_loss += loss\n",
        "            total += labels.size(0)\n",
        "            correct += (torch.max(outputs.data, 1)[1] == labels).sum().item()\n",
        "        epoch_loss /= len(trainloader.dataset)\n",
        "        epoch_acc = correct / total\n",
        "        if verbose:\n",
        "            print(f\"Epoch {epoch+1}: train loss {epoch_loss}, accuracy {epoch_acc}\")\n",
        "\n",
        "\n",
        "def test(net, testloader):\n",
        "    criterion = torch.nn.CrossEntropyLoss()\n",
        "    correct, total, loss = 0, 0, 0.0\n",
        "    net.eval()\n",
        "    with torch.no_grad():\n",
        "        for images, labels in testloader:\n",
        "            outputs = net(images)\n",
        "            loss += criterion(outputs, labels).item()\n",
        "            _, predicted = torch.max(outputs.data, 1)\n",
        "            total += labels.size(0)\n",
        "            correct += (predicted == labels).sum().item()\n",
        "    loss /= len(testloader.dataset)\n",
        "    accuracy = correct / total\n",
        "    return loss, accuracy\n",
        "\n",
        "def eval_robust(net, testloader):\n",
        "    criterion = torch.nn.CrossEntropyLoss()\n",
        "    correct, total, loss = 0, 0, 0.0\n",
        "    net.eval()\n",
        "    with torch.enable_grad():\n",
        "        for images, labels in testloader:\n",
        "            atk = PGD(net, eps=8/255, alpha=2/225, steps=10, random_start=True)\n",
        "            adv_images = atk(images, labels)\n",
        "            outputs = net(adv_images)\n",
        "            loss += criterion(outputs, labels).item()\n",
        "            _, predicted = torch.max(outputs.data, 1)\n",
        "            total += labels.size(0)\n",
        "            correct += (predicted == labels).sum().item()\n",
        "    loss /= len(testloader.dataset)\n",
        "    accuracy = correct / total\n",
        "    return loss, accuracy"
      ]
    },
    {
      "cell_type": "markdown",
      "source": [
        "## Sunucudan parametreleri almak ve sunucuya parametreleri göndermek için fonksiyonların tanımlanması"
      ],
      "metadata": {
        "id": "sfxQNKfee8OX"
      },
      "id": "sfxQNKfee8OX"
    },
    {
      "cell_type": "code",
      "execution_count": null,
      "id": "066dbaeb-cef5-4993-b439-d34568f173f4",
      "metadata": {
        "id": "066dbaeb-cef5-4993-b439-d34568f173f4"
      },
      "outputs": [],
      "source": [
        "def get_parameters(net) -> List[np.ndarray]:\n",
        "    return [val.cpu().numpy() for _, val in net.state_dict().items()]\n",
        "\n",
        "\n",
        "def set_parameters(net, parameters: List[np.ndarray]):\n",
        "    params_dict = zip(net.state_dict().keys(), parameters)\n",
        "    state_dict = OrderedDict({k: torch.Tensor(v) for k, v in params_dict})\n",
        "    net.load_state_dict(state_dict, strict=True)"
      ]
    },
    {
      "cell_type": "markdown",
      "source": [
        "## Client sınıfının oluşturulması"
      ],
      "metadata": {
        "id": "puIJMxdRgED2"
      },
      "id": "puIJMxdRgED2"
    },
    {
      "cell_type": "code",
      "execution_count": null,
      "id": "3e168a1f-7662-43ee-9682-282c95715227",
      "metadata": {
        "id": "3e168a1f-7662-43ee-9682-282c95715227"
      },
      "outputs": [],
      "source": [
        "class FlowerClient(fl.client.NumPyClient):\n",
        "    def __init__(self, net, trainloader, testloader):\n",
        "        self.net = net\n",
        "        self.trainloader = trainloader\n",
        "        self.testloader = testloader\n",
        "\n",
        "    def get_parameters(self, config):\n",
        "        return get_parameters(self.net)\n",
        "\n",
        "    def fit(self, parameters, config):\n",
        "        set_parameters(self.net, parameters)\n",
        "        train(self.net, self.trainloader, epochs=5)\n",
        "        return get_parameters(self.net), len(self.trainloader), {}\n",
        "\n",
        "    def evaluate(self, parameters, config):\n",
        "        set_parameters(self.net, parameters)\n",
        "        loss1, robust = eval_robust(self.net, self.testloader)\n",
        "        loss2, clean = test(self.net, self.testloader)\n",
        "        return float(loss2), len(self.testloader), {\"clean_acc\": float(clean), \"robust_acc\": float(robust), \"robust_loss\": float(loss1)}"
      ]
    },
    {
      "cell_type": "markdown",
      "source": [
        "## Clientleri çağırma fonksiyonun tanımlanması"
      ],
      "metadata": {
        "id": "K-I8NjVogNAv"
      },
      "id": "K-I8NjVogNAv"
    },
    {
      "cell_type": "code",
      "execution_count": null,
      "id": "39bc1b13-103a-42fc-9916-026739043b9d",
      "metadata": {
        "id": "39bc1b13-103a-42fc-9916-026739043b9d"
      },
      "outputs": [],
      "source": [
        "def client_fn(cid: str) -> FlowerClient:\n",
        "\n",
        "    net = Net().to()\n",
        "\n",
        "    trainloader = trainloaders[int(cid)]\n",
        "    testloader = testloaders[int(cid)]\n",
        "\n",
        "    return FlowerClient(net, trainloader, testloader)"
      ]
    },
    {
      "cell_type": "markdown",
      "source": [
        "## Loss dışındaki metriklerin hesaplanması için tanımlanan fonksiyon"
      ],
      "metadata": {
        "id": "FNKl71FCh20v"
      },
      "id": "FNKl71FCh20v"
    },
    {
      "cell_type": "code",
      "execution_count": null,
      "id": "89d7ffe8-2350-4fe0-b089-7369de48018f",
      "metadata": {
        "id": "89d7ffe8-2350-4fe0-b089-7369de48018f"
      },
      "outputs": [],
      "source": [
        "def weighted_average(metrics: List[Tuple[int, Metrics]]) -> Metrics:\n",
        "    cleans = [num_examples * m[\"clean_acc\"] for num_examples, m in metrics]\n",
        "    robusts = [num_examples * m[\"robust_acc\"] for num_examples, m in metrics]\n",
        "    losses = [num_examples * m[\"robust_loss\"] for num_examples, m in metrics]\n",
        "    examples = [num_examples for num_examples, _ in metrics]\n",
        "\n",
        "    return {\"clean_acc\": sum(cleans) / sum(examples), \"robust_acc\": sum(robusts) / sum(examples), \"robust_loss\": sum(losses) / sum(examples)}"
      ]
    },
    {
      "cell_type": "markdown",
      "source": [
        "## Aggregation algoritmasının belirlenmesi ve simülasyonun yapılması"
      ],
      "metadata": {
        "id": "2RZ-BENQjiwe"
      },
      "id": "2RZ-BENQjiwe"
    },
    {
      "cell_type": "code",
      "execution_count": null,
      "id": "b8033aa5-064f-4113-b00f-47a27fa1b488",
      "metadata": {
        "colab": {
          "base_uri": "https://localhost:8080/"
        },
        "id": "b8033aa5-064f-4113-b00f-47a27fa1b488",
        "outputId": "6845cce6-156a-4a1c-a73c-9eb9f5a118fc"
      },
      "outputs": [
        {
          "output_type": "stream",
          "name": "stderr",
          "text": [
            "INFO flwr 2023-10-28 09:34:50,146 | app.py:175 | Starting Flower simulation, config: ServerConfig(num_rounds=10, round_timeout=None)\n",
            "INFO:flwr:Starting Flower simulation, config: ServerConfig(num_rounds=10, round_timeout=None)\n",
            "2023-10-28 09:34:54,460\tINFO worker.py:1621 -- Started a local Ray instance.\n",
            "INFO flwr 2023-10-28 09:34:58,123 | app.py:210 | Flower VCE: Ray initialized with resources: {'node:__internal_head__': 1.0, 'node:172.28.0.12': 1.0, 'memory': 7829839872.0, 'object_store_memory': 3914919936.0, 'CPU': 2.0}\n",
            "INFO:flwr:Flower VCE: Ray initialized with resources: {'node:__internal_head__': 1.0, 'node:172.28.0.12': 1.0, 'memory': 7829839872.0, 'object_store_memory': 3914919936.0, 'CPU': 2.0}\n",
            "INFO flwr 2023-10-28 09:34:58,129 | app.py:224 | Flower VCE: Resources for each Virtual Client: {'num_cpus': 1, 'num_gpus': 0.0}\n",
            "INFO:flwr:Flower VCE: Resources for each Virtual Client: {'num_cpus': 1, 'num_gpus': 0.0}\n",
            "INFO flwr 2023-10-28 09:34:58,207 | app.py:270 | Flower VCE: Creating VirtualClientEngineActorPool with 2 actors\n",
            "INFO:flwr:Flower VCE: Creating VirtualClientEngineActorPool with 2 actors\n",
            "INFO flwr 2023-10-28 09:34:58,214 | server.py:89 | Initializing global parameters\n",
            "INFO:flwr:Initializing global parameters\n",
            "INFO flwr 2023-10-28 09:34:58,217 | server.py:276 | Requesting initial parameters from one random client\n",
            "INFO:flwr:Requesting initial parameters from one random client\n",
            "\u001b[2m\u001b[36m(pid=1301)\u001b[0m 2023-10-28 09:35:04.411332: E tensorflow/compiler/xla/stream_executor/cuda/cuda_dnn.cc:9342] Unable to register cuDNN factory: Attempting to register factory for plugin cuDNN when one has already been registered\n",
            "\u001b[2m\u001b[36m(pid=1301)\u001b[0m 2023-10-28 09:35:04.411405: E tensorflow/compiler/xla/stream_executor/cuda/cuda_fft.cc:609] Unable to register cuFFT factory: Attempting to register factory for plugin cuFFT when one has already been registered\n",
            "\u001b[2m\u001b[36m(pid=1301)\u001b[0m 2023-10-28 09:35:04.411445: E tensorflow/compiler/xla/stream_executor/cuda/cuda_blas.cc:1518] Unable to register cuBLAS factory: Attempting to register factory for plugin cuBLAS when one has already been registered\n",
            "\u001b[2m\u001b[36m(pid=1301)\u001b[0m 2023-10-28 09:35:06.510957: W tensorflow/compiler/tf2tensorrt/utils/py_utils.cc:38] TF-TRT Warning: Could not find TensorRT\n",
            "INFO flwr 2023-10-28 09:35:12,343 | server.py:280 | Received initial parameters from one random client\n",
            "INFO:flwr:Received initial parameters from one random client\n",
            "INFO flwr 2023-10-28 09:35:12,350 | server.py:91 | Evaluating initial parameters\n",
            "INFO:flwr:Evaluating initial parameters\n",
            "INFO flwr 2023-10-28 09:35:12,352 | server.py:104 | FL starting\n",
            "INFO:flwr:FL starting\n",
            "DEBUG flwr 2023-10-28 09:35:12,355 | server.py:222 | fit_round 1: strategy sampled 10 clients (out of 50)\n",
            "DEBUG:flwr:fit_round 1: strategy sampled 10 clients (out of 50)\n",
            "DEBUG flwr 2023-10-28 09:36:12,256 | server.py:236 | fit_round 1 received 10 results and 0 failures\n",
            "DEBUG:flwr:fit_round 1 received 10 results and 0 failures\n",
            "WARNING flwr 2023-10-28 09:36:12,287 | fedavg.py:242 | No fit_metrics_aggregation_fn provided\n",
            "WARNING:flwr:No fit_metrics_aggregation_fn provided\n",
            "DEBUG flwr 2023-10-28 09:36:12,291 | server.py:173 | evaluate_round 1: strategy sampled 5 clients (out of 50)\n",
            "DEBUG:flwr:evaluate_round 1: strategy sampled 5 clients (out of 50)\n",
            "DEBUG flwr 2023-10-28 09:36:25,555 | server.py:187 | evaluate_round 1 received 5 results and 0 failures\n",
            "DEBUG:flwr:evaluate_round 1 received 5 results and 0 failures\n",
            "DEBUG flwr 2023-10-28 09:36:25,563 | server.py:222 | fit_round 2: strategy sampled 10 clients (out of 50)\n",
            "DEBUG:flwr:fit_round 2: strategy sampled 10 clients (out of 50)\n",
            "DEBUG flwr 2023-10-28 09:37:19,552 | server.py:236 | fit_round 2 received 10 results and 0 failures\n",
            "DEBUG:flwr:fit_round 2 received 10 results and 0 failures\n",
            "DEBUG flwr 2023-10-28 09:37:19,583 | server.py:173 | evaluate_round 2: strategy sampled 5 clients (out of 50)\n",
            "DEBUG:flwr:evaluate_round 2: strategy sampled 5 clients (out of 50)\n",
            "DEBUG flwr 2023-10-28 09:37:33,168 | server.py:187 | evaluate_round 2 received 5 results and 0 failures\n",
            "DEBUG:flwr:evaluate_round 2 received 5 results and 0 failures\n",
            "DEBUG flwr 2023-10-28 09:37:33,174 | server.py:222 | fit_round 3: strategy sampled 10 clients (out of 50)\n",
            "DEBUG:flwr:fit_round 3: strategy sampled 10 clients (out of 50)\n",
            "DEBUG flwr 2023-10-28 09:38:26,551 | server.py:236 | fit_round 3 received 10 results and 0 failures\n",
            "DEBUG:flwr:fit_round 3 received 10 results and 0 failures\n",
            "DEBUG flwr 2023-10-28 09:38:26,583 | server.py:173 | evaluate_round 3: strategy sampled 5 clients (out of 50)\n",
            "DEBUG:flwr:evaluate_round 3: strategy sampled 5 clients (out of 50)\n",
            "DEBUG flwr 2023-10-28 09:38:39,961 | server.py:187 | evaluate_round 3 received 5 results and 0 failures\n",
            "DEBUG:flwr:evaluate_round 3 received 5 results and 0 failures\n",
            "DEBUG flwr 2023-10-28 09:38:39,964 | server.py:222 | fit_round 4: strategy sampled 10 clients (out of 50)\n",
            "DEBUG:flwr:fit_round 4: strategy sampled 10 clients (out of 50)\n",
            "DEBUG flwr 2023-10-28 09:39:37,556 | server.py:236 | fit_round 4 received 10 results and 0 failures\n",
            "DEBUG:flwr:fit_round 4 received 10 results and 0 failures\n",
            "DEBUG flwr 2023-10-28 09:39:37,584 | server.py:173 | evaluate_round 4: strategy sampled 5 clients (out of 50)\n",
            "DEBUG:flwr:evaluate_round 4: strategy sampled 5 clients (out of 50)\n",
            "DEBUG flwr 2023-10-28 09:39:52,368 | server.py:187 | evaluate_round 4 received 5 results and 0 failures\n",
            "DEBUG:flwr:evaluate_round 4 received 5 results and 0 failures\n",
            "DEBUG flwr 2023-10-28 09:39:52,372 | server.py:222 | fit_round 5: strategy sampled 10 clients (out of 50)\n",
            "DEBUG:flwr:fit_round 5: strategy sampled 10 clients (out of 50)\n",
            "DEBUG flwr 2023-10-28 09:40:45,928 | server.py:236 | fit_round 5 received 10 results and 0 failures\n",
            "DEBUG:flwr:fit_round 5 received 10 results and 0 failures\n",
            "DEBUG flwr 2023-10-28 09:40:45,956 | server.py:173 | evaluate_round 5: strategy sampled 5 clients (out of 50)\n",
            "DEBUG:flwr:evaluate_round 5: strategy sampled 5 clients (out of 50)\n",
            "DEBUG flwr 2023-10-28 09:41:00,805 | server.py:187 | evaluate_round 5 received 5 results and 0 failures\n",
            "DEBUG:flwr:evaluate_round 5 received 5 results and 0 failures\n",
            "DEBUG flwr 2023-10-28 09:41:00,809 | server.py:222 | fit_round 6: strategy sampled 10 clients (out of 50)\n",
            "DEBUG:flwr:fit_round 6: strategy sampled 10 clients (out of 50)\n",
            "DEBUG flwr 2023-10-28 09:41:54,503 | server.py:236 | fit_round 6 received 10 results and 0 failures\n",
            "DEBUG:flwr:fit_round 6 received 10 results and 0 failures\n",
            "DEBUG flwr 2023-10-28 09:41:54,537 | server.py:173 | evaluate_round 6: strategy sampled 5 clients (out of 50)\n",
            "DEBUG:flwr:evaluate_round 6: strategy sampled 5 clients (out of 50)\n",
            "DEBUG flwr 2023-10-28 09:42:09,425 | server.py:187 | evaluate_round 6 received 5 results and 0 failures\n",
            "DEBUG:flwr:evaluate_round 6 received 5 results and 0 failures\n",
            "DEBUG flwr 2023-10-28 09:42:09,430 | server.py:222 | fit_round 7: strategy sampled 10 clients (out of 50)\n",
            "DEBUG:flwr:fit_round 7: strategy sampled 10 clients (out of 50)\n",
            "DEBUG flwr 2023-10-28 09:43:03,456 | server.py:236 | fit_round 7 received 10 results and 0 failures\n",
            "DEBUG:flwr:fit_round 7 received 10 results and 0 failures\n",
            "DEBUG flwr 2023-10-28 09:43:03,486 | server.py:173 | evaluate_round 7: strategy sampled 5 clients (out of 50)\n",
            "DEBUG:flwr:evaluate_round 7: strategy sampled 5 clients (out of 50)\n",
            "DEBUG flwr 2023-10-28 09:43:21,487 | server.py:187 | evaluate_round 7 received 5 results and 0 failures\n",
            "DEBUG:flwr:evaluate_round 7 received 5 results and 0 failures\n",
            "DEBUG flwr 2023-10-28 09:43:21,494 | server.py:222 | fit_round 8: strategy sampled 10 clients (out of 50)\n",
            "DEBUG:flwr:fit_round 8: strategy sampled 10 clients (out of 50)\n",
            "DEBUG flwr 2023-10-28 09:44:16,403 | server.py:236 | fit_round 8 received 10 results and 0 failures\n",
            "DEBUG:flwr:fit_round 8 received 10 results and 0 failures\n",
            "DEBUG flwr 2023-10-28 09:44:16,452 | server.py:173 | evaluate_round 8: strategy sampled 5 clients (out of 50)\n",
            "DEBUG:flwr:evaluate_round 8: strategy sampled 5 clients (out of 50)\n",
            "DEBUG flwr 2023-10-28 09:44:30,667 | server.py:187 | evaluate_round 8 received 5 results and 0 failures\n",
            "DEBUG:flwr:evaluate_round 8 received 5 results and 0 failures\n",
            "DEBUG flwr 2023-10-28 09:44:30,672 | server.py:222 | fit_round 9: strategy sampled 10 clients (out of 50)\n",
            "DEBUG:flwr:fit_round 9: strategy sampled 10 clients (out of 50)\n",
            "DEBUG flwr 2023-10-28 09:45:26,732 | server.py:236 | fit_round 9 received 10 results and 0 failures\n",
            "DEBUG:flwr:fit_round 9 received 10 results and 0 failures\n",
            "DEBUG flwr 2023-10-28 09:45:26,777 | server.py:173 | evaluate_round 9: strategy sampled 5 clients (out of 50)\n",
            "DEBUG:flwr:evaluate_round 9: strategy sampled 5 clients (out of 50)\n",
            "DEBUG flwr 2023-10-28 09:45:39,193 | server.py:187 | evaluate_round 9 received 5 results and 0 failures\n",
            "DEBUG:flwr:evaluate_round 9 received 5 results and 0 failures\n",
            "DEBUG flwr 2023-10-28 09:45:39,199 | server.py:222 | fit_round 10: strategy sampled 10 clients (out of 50)\n",
            "DEBUG:flwr:fit_round 10: strategy sampled 10 clients (out of 50)\n",
            "DEBUG flwr 2023-10-28 09:46:34,080 | server.py:236 | fit_round 10 received 10 results and 0 failures\n",
            "DEBUG:flwr:fit_round 10 received 10 results and 0 failures\n",
            "DEBUG flwr 2023-10-28 09:46:34,124 | server.py:173 | evaluate_round 10: strategy sampled 5 clients (out of 50)\n",
            "DEBUG:flwr:evaluate_round 10: strategy sampled 5 clients (out of 50)\n",
            "DEBUG flwr 2023-10-28 09:46:46,457 | server.py:187 | evaluate_round 10 received 5 results and 0 failures\n",
            "DEBUG:flwr:evaluate_round 10 received 5 results and 0 failures\n",
            "INFO flwr 2023-10-28 09:46:46,461 | server.py:153 | FL finished in 694.106246027\n",
            "INFO:flwr:FL finished in 694.106246027\n",
            "INFO flwr 2023-10-28 09:46:46,468 | app.py:225 | app_fit: losses_distributed [(1, 0.2731341938972473), (2, 0.2188479949235916), (3, 0.20187671494483947), (4, 0.1822571063041687), (5, 0.18732131618261338), (6, 0.17916770863533021), (7, 0.17768100202083587), (8, 0.17611660353839398), (9, 0.17311891168355942), (10, 0.17431776762008666)]\n",
            "INFO:flwr:app_fit: losses_distributed [(1, 0.2731341938972473), (2, 0.2188479949235916), (3, 0.20187671494483947), (4, 0.1822571063041687), (5, 0.18732131618261338), (6, 0.17916770863533021), (7, 0.17768100202083587), (8, 0.17611660353839398), (9, 0.17311891168355942), (10, 0.17431776762008666)]\n",
            "INFO flwr 2023-10-28 09:46:46,475 | app.py:226 | app_fit: metrics_distributed_fit {}\n",
            "INFO:flwr:app_fit: metrics_distributed_fit {}\n",
            "INFO flwr 2023-10-28 09:46:46,477 | app.py:227 | app_fit: metrics_distributed {'clean_acc': [(1, 0.202), (2, 0.375), (3, 0.417), (4, 0.462), (5, 0.462), (6, 0.493), (7, 0.485), (8, 0.509), (9, 0.511), (10, 0.533)], 'robust_acc': [(1, 0.13), (2, 0.106), (3, 0.081), (4, 0.07), (5, 0.079), (6, 0.069), (7, 0.057), (8, 0.053), (9, 0.024), (10, 0.034)], 'robust_loss': [(1, 0.2850013771057129), (2, 0.30676017606258393), (3, 0.34053148281574247), (4, 0.3833031451702118), (5, 0.43238155925273897), (6, 0.46894561672210694), (7, 0.5243183467388153), (8, 0.5611490321159363), (9, 0.6310246341228485), (10, 0.6891230792999268)]}\n",
            "INFO:flwr:app_fit: metrics_distributed {'clean_acc': [(1, 0.202), (2, 0.375), (3, 0.417), (4, 0.462), (5, 0.462), (6, 0.493), (7, 0.485), (8, 0.509), (9, 0.511), (10, 0.533)], 'robust_acc': [(1, 0.13), (2, 0.106), (3, 0.081), (4, 0.07), (5, 0.079), (6, 0.069), (7, 0.057), (8, 0.053), (9, 0.024), (10, 0.034)], 'robust_loss': [(1, 0.2850013771057129), (2, 0.30676017606258393), (3, 0.34053148281574247), (4, 0.3833031451702118), (5, 0.43238155925273897), (6, 0.46894561672210694), (7, 0.5243183467388153), (8, 0.5611490321159363), (9, 0.6310246341228485), (10, 0.6891230792999268)]}\n",
            "INFO flwr 2023-10-28 09:46:46,479 | app.py:228 | app_fit: losses_centralized []\n",
            "INFO:flwr:app_fit: losses_centralized []\n",
            "INFO flwr 2023-10-28 09:46:46,485 | app.py:229 | app_fit: metrics_centralized {}\n",
            "INFO:flwr:app_fit: metrics_centralized {}\n"
          ]
        },
        {
          "output_type": "execute_result",
          "data": {
            "text/plain": [
              "History (loss, distributed):\n",
              "\tround 1: 0.2731341938972473\n",
              "\tround 2: 0.2188479949235916\n",
              "\tround 3: 0.20187671494483947\n",
              "\tround 4: 0.1822571063041687\n",
              "\tround 5: 0.18732131618261338\n",
              "\tround 6: 0.17916770863533021\n",
              "\tround 7: 0.17768100202083587\n",
              "\tround 8: 0.17611660353839398\n",
              "\tround 9: 0.17311891168355942\n",
              "\tround 10: 0.17431776762008666\n",
              "History (metrics, distributed, evaluate):\n",
              "{'clean_acc': [(1, 0.202), (2, 0.375), (3, 0.417), (4, 0.462), (5, 0.462), (6, 0.493), (7, 0.485), (8, 0.509), (9, 0.511), (10, 0.533)], 'robust_acc': [(1, 0.13), (2, 0.106), (3, 0.081), (4, 0.07), (5, 0.079), (6, 0.069), (7, 0.057), (8, 0.053), (9, 0.024), (10, 0.034)], 'robust_loss': [(1, 0.2850013771057129), (2, 0.30676017606258393), (3, 0.34053148281574247), (4, 0.3833031451702118), (5, 0.43238155925273897), (6, 0.46894561672210694), (7, 0.5243183467388153), (8, 0.5611490321159363), (9, 0.6310246341228485), (10, 0.6891230792999268)]}"
            ]
          },
          "metadata": {},
          "execution_count": 15
        }
      ],
      "source": [
        "strategy = fl.server.strategy.FedAvg(\n",
        "    fraction_fit=0.2,\n",
        "    fraction_evaluate=0.1,\n",
        "    min_fit_clients=10,\n",
        "    min_evaluate_clients=5,\n",
        "    min_available_clients=int(NUM_CLIENTS*0.50),\n",
        "    evaluate_metrics_aggregation_fn= weighted_average,\n",
        ")\n",
        "\n",
        "client_resources = {\"num_cpus\": 1, \"num_gpus\": 0.0}\n",
        "\n",
        "\n",
        "fl.simulation.start_simulation(\n",
        "    client_fn=client_fn,\n",
        "    num_clients=NUM_CLIENTS,\n",
        "    config=fl.server.ServerConfig(num_rounds=10),\n",
        "    strategy=strategy,\n",
        "    client_resources=client_resources,\n",
        ")"
      ]
    },
    {
      "cell_type": "code",
      "execution_count": null,
      "id": "92f412d9-8d29-4d5e-8ac6-bafc0faab6bf",
      "metadata": {
        "id": "92f412d9-8d29-4d5e-8ac6-bafc0faab6bf"
      },
      "outputs": [],
      "source": []
    }
  ],
  "metadata": {
    "kernelspec": {
      "display_name": "Python 3 (ipykernel)",
      "language": "python",
      "name": "python3"
    },
    "language_info": {
      "codemirror_mode": {
        "name": "ipython",
        "version": 3
      },
      "file_extension": ".py",
      "mimetype": "text/x-python",
      "name": "python",
      "nbconvert_exporter": "python",
      "pygments_lexer": "ipython3",
      "version": "3.8.10"
    },
    "colab": {
      "provenance": []
    }
  },
  "nbformat": 4,
  "nbformat_minor": 5
}