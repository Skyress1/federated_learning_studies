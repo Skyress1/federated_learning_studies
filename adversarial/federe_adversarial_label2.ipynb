{
  "cells": [
    {
      "cell_type": "markdown",
      "source": [
        "## Kütüphanelerin kurulumu"
      ],
      "metadata": {
        "id": "lTJMyILxdW96"
      },
      "id": "lTJMyILxdW96"
    },
    {
      "cell_type": "code",
      "source": [
        "!pip install -q flwr[simulation] torch torchvision matplotlib"
      ],
      "metadata": {
        "colab": {
          "base_uri": "https://localhost:8080/"
        },
        "id": "GV2QSOE0OZGq",
        "outputId": "0a2dee75-2d27-4b43-ebfa-363f7d4a5cf8"
      },
      "id": "GV2QSOE0OZGq",
      "execution_count": null,
      "outputs": [
        {
          "output_type": "stream",
          "name": "stdout",
          "text": [
            "\u001b[2K     \u001b[90m━━━━━━━━━━━━━━━━━━━━━━━━━━━━━━━━━━━━━━━━\u001b[0m \u001b[32m200.4/200.4 kB\u001b[0m \u001b[31m4.3 MB/s\u001b[0m eta \u001b[36m0:00:00\u001b[0m\n",
            "\u001b[2K     \u001b[90m━━━━━━━━━━━━━━━━━━━━━━━━━━━━━━━━━━━━━━━━\u001b[0m \u001b[32m2.1/2.1 MB\u001b[0m \u001b[31m43.0 MB/s\u001b[0m eta \u001b[36m0:00:00\u001b[0m\n",
            "\u001b[2K     \u001b[90m━━━━━━━━━━━━━━━━━━━━━━━━━━━━━━━━━━━━━━━━\u001b[0m \u001b[32m56.9/56.9 MB\u001b[0m \u001b[31m16.4 MB/s\u001b[0m eta \u001b[36m0:00:00\u001b[0m\n",
            "\u001b[2K     \u001b[90m━━━━━━━━━━━━━━━━━━━━━━━━━━━━━━━━━━━━━━━━\u001b[0m \u001b[32m201.4/201.4 kB\u001b[0m \u001b[31m15.7 MB/s\u001b[0m eta \u001b[36m0:00:00\u001b[0m\n",
            "\u001b[2K     \u001b[90m━━━━━━━━━━━━━━━━━━━━━━━━━━━━━━━━━━━━━━━━\u001b[0m \u001b[32m3.0/3.0 MB\u001b[0m \u001b[31m46.7 MB/s\u001b[0m eta \u001b[36m0:00:00\u001b[0m\n",
            "\u001b[2K     \u001b[90m━━━━━━━━━━━━━━━━━━━━━━━━━━━━━━━━━━━━━━━━\u001b[0m \u001b[32m98.1/98.1 kB\u001b[0m \u001b[31m7.7 MB/s\u001b[0m eta \u001b[36m0:00:00\u001b[0m\n",
            "\u001b[?25h  Installing build dependencies ... \u001b[?25l\u001b[?25hdone\n",
            "  Getting requirements to build wheel ... \u001b[?25l\u001b[?25hdone\n",
            "  Preparing metadata (pyproject.toml) ... \u001b[?25l\u001b[?25hdone\n",
            "\u001b[2K     \u001b[90m━━━━━━━━━━━━━━━━━━━━━━━━━━━━━━━━━━━━━━━━\u001b[0m \u001b[32m128.2/128.2 kB\u001b[0m \u001b[31m12.5 MB/s\u001b[0m eta \u001b[36m0:00:00\u001b[0m\n",
            "\u001b[2K     \u001b[90m━━━━━━━━━━━━━━━━━━━━━━━━━━━━━━━━━━━━━━━━\u001b[0m \u001b[32m8.7/8.7 MB\u001b[0m \u001b[31m101.0 MB/s\u001b[0m eta \u001b[36m0:00:00\u001b[0m\n",
            "\u001b[2K     \u001b[90m━━━━━━━━━━━━━━━━━━━━━━━━━━━━━━━━━━━━━━━━\u001b[0m \u001b[32m58.4/58.4 kB\u001b[0m \u001b[31m6.8 MB/s\u001b[0m eta \u001b[36m0:00:00\u001b[0m\n",
            "\u001b[2K     \u001b[90m━━━━━━━━━━━━━━━━━━━━━━━━━━━━━━━━━━━━━━━━\u001b[0m \u001b[32m468.9/468.9 kB\u001b[0m \u001b[31m43.5 MB/s\u001b[0m eta \u001b[36m0:00:00\u001b[0m\n",
            "\u001b[?25h  Building wheel for gpustat (pyproject.toml) ... \u001b[?25l\u001b[?25hdone\n"
          ]
        }
      ]
    },
    {
      "cell_type": "code",
      "source": [
        "!pip install torchattacks"
      ],
      "metadata": {
        "colab": {
          "base_uri": "https://localhost:8080/"
        },
        "id": "XAA59SI4gLCD",
        "outputId": "8fb42b95-17a8-4283-cb80-69e13f0ba18a"
      },
      "id": "XAA59SI4gLCD",
      "execution_count": null,
      "outputs": [
        {
          "output_type": "stream",
          "name": "stdout",
          "text": [
            "Collecting torchattacks\n",
            "  Downloading torchattacks-3.5.1-py3-none-any.whl (142 kB)\n",
            "\u001b[2K     \u001b[90m━━━━━━━━━━━━━━━━━━━━━━━━━━━━━━━━━━━━━━━━\u001b[0m \u001b[32m142.0/142.0 kB\u001b[0m \u001b[31m2.2 MB/s\u001b[0m eta \u001b[36m0:00:00\u001b[0m\n",
            "\u001b[?25hRequirement already satisfied: torch>=1.7.1 in /usr/local/lib/python3.10/dist-packages (from torchattacks) (2.1.0+cu118)\n",
            "Requirement already satisfied: torchvision>=0.8.2 in /usr/local/lib/python3.10/dist-packages (from torchattacks) (0.16.0+cu118)\n",
            "Requirement already satisfied: scipy>=0.14.0 in /usr/local/lib/python3.10/dist-packages (from torchattacks) (1.11.3)\n",
            "Requirement already satisfied: tqdm>=4.56.1 in /usr/local/lib/python3.10/dist-packages (from torchattacks) (4.66.1)\n",
            "Collecting requests~=2.25.1 (from torchattacks)\n",
            "  Downloading requests-2.25.1-py2.py3-none-any.whl (61 kB)\n",
            "\u001b[2K     \u001b[90m━━━━━━━━━━━━━━━━━━━━━━━━━━━━━━━━━━━━━━━━\u001b[0m \u001b[32m61.2/61.2 kB\u001b[0m \u001b[31m6.7 MB/s\u001b[0m eta \u001b[36m0:00:00\u001b[0m\n",
            "\u001b[?25hRequirement already satisfied: numpy>=1.19.4 in /usr/local/lib/python3.10/dist-packages (from torchattacks) (1.23.5)\n",
            "Collecting chardet<5,>=3.0.2 (from requests~=2.25.1->torchattacks)\n",
            "  Downloading chardet-4.0.0-py2.py3-none-any.whl (178 kB)\n",
            "\u001b[2K     \u001b[90m━━━━━━━━━━━━━━━━━━━━━━━━━━━━━━━━━━━━━━━━\u001b[0m \u001b[32m178.7/178.7 kB\u001b[0m \u001b[31m6.6 MB/s\u001b[0m eta \u001b[36m0:00:00\u001b[0m\n",
            "\u001b[?25hCollecting idna<3,>=2.5 (from requests~=2.25.1->torchattacks)\n",
            "  Downloading idna-2.10-py2.py3-none-any.whl (58 kB)\n",
            "\u001b[2K     \u001b[90m━━━━━━━━━━━━━━━━━━━━━━━━━━━━━━━━━━━━━━━━\u001b[0m \u001b[32m58.8/58.8 kB\u001b[0m \u001b[31m5.3 MB/s\u001b[0m eta \u001b[36m0:00:00\u001b[0m\n",
            "\u001b[?25hCollecting urllib3<1.27,>=1.21.1 (from requests~=2.25.1->torchattacks)\n",
            "  Downloading urllib3-1.26.18-py2.py3-none-any.whl (143 kB)\n",
            "\u001b[2K     \u001b[90m━━━━━━━━━━━━━━━━━━━━━━━━━━━━━━━━━━━━━━━━\u001b[0m \u001b[32m143.8/143.8 kB\u001b[0m \u001b[31m5.8 MB/s\u001b[0m eta \u001b[36m0:00:00\u001b[0m\n",
            "\u001b[?25hRequirement already satisfied: certifi>=2017.4.17 in /usr/local/lib/python3.10/dist-packages (from requests~=2.25.1->torchattacks) (2023.7.22)\n",
            "Requirement already satisfied: filelock in /usr/local/lib/python3.10/dist-packages (from torch>=1.7.1->torchattacks) (3.12.4)\n",
            "Requirement already satisfied: typing-extensions in /usr/local/lib/python3.10/dist-packages (from torch>=1.7.1->torchattacks) (4.5.0)\n",
            "Requirement already satisfied: sympy in /usr/local/lib/python3.10/dist-packages (from torch>=1.7.1->torchattacks) (1.12)\n",
            "Requirement already satisfied: networkx in /usr/local/lib/python3.10/dist-packages (from torch>=1.7.1->torchattacks) (3.2)\n",
            "Requirement already satisfied: jinja2 in /usr/local/lib/python3.10/dist-packages (from torch>=1.7.1->torchattacks) (3.1.2)\n",
            "Requirement already satisfied: fsspec in /usr/local/lib/python3.10/dist-packages (from torch>=1.7.1->torchattacks) (2023.6.0)\n",
            "Requirement already satisfied: triton==2.1.0 in /usr/local/lib/python3.10/dist-packages (from torch>=1.7.1->torchattacks) (2.1.0)\n",
            "Requirement already satisfied: pillow!=8.3.*,>=5.3.0 in /usr/local/lib/python3.10/dist-packages (from torchvision>=0.8.2->torchattacks) (9.4.0)\n",
            "Requirement already satisfied: MarkupSafe>=2.0 in /usr/local/lib/python3.10/dist-packages (from jinja2->torch>=1.7.1->torchattacks) (2.1.3)\n",
            "Requirement already satisfied: mpmath>=0.19 in /usr/local/lib/python3.10/dist-packages (from sympy->torch>=1.7.1->torchattacks) (1.3.0)\n",
            "Installing collected packages: urllib3, idna, chardet, requests, torchattacks\n",
            "  Attempting uninstall: urllib3\n",
            "    Found existing installation: urllib3 2.0.7\n",
            "    Uninstalling urllib3-2.0.7:\n",
            "      Successfully uninstalled urllib3-2.0.7\n",
            "  Attempting uninstall: idna\n",
            "    Found existing installation: idna 3.4\n",
            "    Uninstalling idna-3.4:\n",
            "      Successfully uninstalled idna-3.4\n",
            "  Attempting uninstall: chardet\n",
            "    Found existing installation: chardet 5.2.0\n",
            "    Uninstalling chardet-5.2.0:\n",
            "      Successfully uninstalled chardet-5.2.0\n",
            "  Attempting uninstall: requests\n",
            "    Found existing installation: requests 2.31.0\n",
            "    Uninstalling requests-2.31.0:\n",
            "      Successfully uninstalled requests-2.31.0\n",
            "\u001b[31mERROR: pip's dependency resolver does not currently take into account all the packages that are installed. This behaviour is the source of the following dependency conflicts.\n",
            "bigframes 0.10.0 requires requests>=2.27.1, but you have requests 2.25.1 which is incompatible.\n",
            "google-colab 1.0.0 requires requests==2.31.0, but you have requests 2.25.1 which is incompatible.\n",
            "tweepy 4.13.0 requires requests<3,>=2.27.0, but you have requests 2.25.1 which is incompatible.\n",
            "yfinance 0.2.31 requires requests>=2.31, but you have requests 2.25.1 which is incompatible.\u001b[0m\u001b[31m\n",
            "\u001b[0mSuccessfully installed chardet-4.0.0 idna-2.10 requests-2.25.1 torchattacks-3.5.1 urllib3-1.26.18\n"
          ]
        }
      ]
    },
    {
      "cell_type": "markdown",
      "source": [
        "## Kütüphanelerin çağırılması"
      ],
      "metadata": {
        "id": "w9KtJpCldLy7"
      },
      "id": "w9KtJpCldLy7"
    },
    {
      "cell_type": "code",
      "execution_count": null,
      "id": "a766e608-7b9a-44bc-8c95-287223930047",
      "metadata": {
        "id": "a766e608-7b9a-44bc-8c95-287223930047"
      },
      "outputs": [],
      "source": [
        "from collections import OrderedDict\n",
        "from typing import List, Tuple\n",
        "import matplotlib.pyplot as plt\n",
        "import numpy as np\n",
        "import torch\n",
        "import torch.nn as nn\n",
        "import torch.nn.functional as F\n",
        "import torchvision\n",
        "import torchvision.transforms as transforms\n",
        "from torch.utils.data import DataLoader, random_split\n",
        "from torchvision.datasets import MNIST, CIFAR10\n",
        "from torchsummary import summary\n",
        "import flwr as fl\n",
        "from flwr.common import Metrics\n",
        "import torchattacks\n",
        "from torchattacks import PGD"
      ]
    },
    {
      "cell_type": "markdown",
      "source": [
        "## Veri setinin yüklenmesi, normalize edilmesi, clientlere ayırılması"
      ],
      "metadata": {
        "id": "ubCXN1Z9dgNl"
      },
      "id": "ubCXN1Z9dgNl"
    },
    {
      "cell_type": "code",
      "execution_count": null,
      "id": "bb6e29dd-8183-494b-a08e-508d9d376448",
      "metadata": {
        "id": "bb6e29dd-8183-494b-a08e-508d9d376448"
      },
      "outputs": [],
      "source": [
        "transform = transforms.Compose([transforms.ToTensor()])"
      ]
    },
    {
      "cell_type": "code",
      "execution_count": null,
      "id": "85a6a4a8-11fa-44a3-a9b4-a06836a1cbb5",
      "metadata": {
        "colab": {
          "base_uri": "https://localhost:8080/"
        },
        "id": "85a6a4a8-11fa-44a3-a9b4-a06836a1cbb5",
        "outputId": "eab97dc2-b39b-4fa8-f84f-ae0b10086754"
      },
      "outputs": [
        {
          "output_type": "stream",
          "name": "stdout",
          "text": [
            "Downloading https://www.cs.toronto.edu/~kriz/cifar-10-python.tar.gz to ./dataset/cifar-10-python.tar.gz\n"
          ]
        },
        {
          "output_type": "stream",
          "name": "stderr",
          "text": [
            "100%|██████████| 170498071/170498071 [00:02<00:00, 75029510.07it/s]\n"
          ]
        },
        {
          "output_type": "stream",
          "name": "stdout",
          "text": [
            "Extracting ./dataset/cifar-10-python.tar.gz to ./dataset\n",
            "Files already downloaded and verified\n"
          ]
        }
      ],
      "source": [
        "trainset = CIFAR10(\"./dataset\", train=True, download=True, transform=transform)\n",
        "testset = CIFAR10(\"./dataset\", train=False, download=True, transform=transform)"
      ]
    },
    {
      "cell_type": "code",
      "execution_count": null,
      "id": "f081d534-0130-4af8-9221-ac739585160d",
      "metadata": {
        "id": "f081d534-0130-4af8-9221-ac739585160d"
      },
      "outputs": [],
      "source": [
        "NUM_CLIENTS = 50"
      ]
    },
    {
      "cell_type": "code",
      "execution_count": null,
      "id": "da81ac90-c1a9-436c-9b8f-63d219fb31c3",
      "metadata": {
        "id": "da81ac90-c1a9-436c-9b8f-63d219fb31c3"
      },
      "outputs": [],
      "source": [
        "BATCH_SIZE = 8\n",
        "\n",
        "def load_datasets(trainset, testset):\n",
        "\n",
        "    train_partition_size = len(trainset) // NUM_CLIENTS\n",
        "    train_lengths = [train_partition_size] * NUM_CLIENTS\n",
        "    train_datasets = random_split(trainset, train_lengths, torch.Generator().manual_seed(42))\n",
        "    test_partition_size = len(testset) // NUM_CLIENTS\n",
        "    test_lengths = [test_partition_size] * NUM_CLIENTS\n",
        "    test_datasets = random_split(testset, test_lengths, torch.Generator().manual_seed(42))\n",
        "\n",
        "    testloaders = []\n",
        "    trainloaders = []\n",
        "    for train_ds, test_ds in zip(train_datasets, test_datasets):\n",
        "        trainloaders.append(DataLoader(train_ds, batch_size=BATCH_SIZE, shuffle=True))\n",
        "        testloaders.append(DataLoader(test_ds, batch_size=BATCH_SIZE))\n",
        "    return trainloaders, testloaders\n",
        "\n",
        "trainloaders, testloaders = load_datasets(trainset, testset)"
      ]
    },
    {
      "cell_type": "markdown",
      "source": [
        "## Mimarinin tanımlanması"
      ],
      "metadata": {
        "id": "KdS2b5oAeHwa"
      },
      "id": "KdS2b5oAeHwa"
    },
    {
      "cell_type": "code",
      "execution_count": null,
      "id": "49e0f8c4-842e-48fa-a05c-90dcbf371107",
      "metadata": {
        "id": "49e0f8c4-842e-48fa-a05c-90dcbf371107"
      },
      "outputs": [],
      "source": [
        "class Net(nn.Module):\n",
        "    def __init__(self) -> None:\n",
        "        super(Net, self).__init__()\n",
        "        self.conv1 = nn.Conv2d(3, 6, 5)\n",
        "        self.pool = nn.MaxPool2d(2, 2)\n",
        "        self.conv2 = nn.Conv2d(6, 16, 5)\n",
        "        self.fc1 = nn.Linear(16 * 5 * 5, 120)\n",
        "        self.fc2 = nn.Linear(120, 84)\n",
        "        self.fc3 = nn.Linear(84, 10)\n",
        "\n",
        "    def forward(self, x: torch.Tensor) -> torch.Tensor:\n",
        "        x = self.pool(F.relu(self.conv1(x)))\n",
        "        x = self.pool(F.relu(self.conv2(x)))\n",
        "        x = x.view(-1, 16 * 5 * 5)\n",
        "        x = F.relu(self.fc1(x))\n",
        "        x = F.relu(self.fc2(x))\n",
        "        x = self.fc3(x)\n",
        "        return x"
      ]
    },
    {
      "cell_type": "code",
      "execution_count": null,
      "id": "135c9060-9384-4416-a888-15bab3c6e7d4",
      "metadata": {
        "colab": {
          "base_uri": "https://localhost:8080/"
        },
        "id": "135c9060-9384-4416-a888-15bab3c6e7d4",
        "outputId": "91f997da-d3bb-488c-ab0c-f669794aa8a4"
      },
      "outputs": [
        {
          "output_type": "stream",
          "name": "stdout",
          "text": [
            "----------------------------------------------------------------\n",
            "        Layer (type)               Output Shape         Param #\n",
            "================================================================\n",
            "            Conv2d-1            [-1, 6, 28, 28]             456\n",
            "         MaxPool2d-2            [-1, 6, 14, 14]               0\n",
            "            Conv2d-3           [-1, 16, 10, 10]           2,416\n",
            "         MaxPool2d-4             [-1, 16, 5, 5]               0\n",
            "            Linear-5                  [-1, 120]          48,120\n",
            "            Linear-6                   [-1, 84]          10,164\n",
            "            Linear-7                   [-1, 10]             850\n",
            "================================================================\n",
            "Total params: 62,006\n",
            "Trainable params: 62,006\n",
            "Non-trainable params: 0\n",
            "----------------------------------------------------------------\n",
            "Input size (MB): 0.01\n",
            "Forward/backward pass size (MB): 0.06\n",
            "Params size (MB): 0.24\n",
            "Estimated Total Size (MB): 0.31\n",
            "----------------------------------------------------------------\n"
          ]
        }
      ],
      "source": [
        "summary(Net(), (3,32,32))"
      ]
    },
    {
      "cell_type": "markdown",
      "source": [
        "## train, test ve eval_robust fonksiyonlarının tanımlanması"
      ],
      "metadata": {
        "id": "NAcmK6RieMsF"
      },
      "id": "NAcmK6RieMsF"
    },
    {
      "cell_type": "markdown",
      "source": [
        "Atak train ve eval_robust fonksiyonları içerisinde PGD ile yapılmıştır."
      ],
      "metadata": {
        "id": "xY-gPv30-Vgs"
      },
      "id": "xY-gPv30-Vgs"
    },
    {
      "cell_type": "code",
      "execution_count": null,
      "id": "b55b86c5-b600-4001-aff1-475a8508624c",
      "metadata": {
        "id": "b55b86c5-b600-4001-aff1-475a8508624c"
      },
      "outputs": [],
      "source": [
        "def train(net, trainloader, epochs: int, verbose=False):\n",
        "    criterion = torch.nn.CrossEntropyLoss()\n",
        "    optimizer = torch.optim.Adam(net.parameters())\n",
        "    net.train()\n",
        "    atk = PGD(net, eps=8/255, alpha=2/225, steps=10, random_start=True)\n",
        "    atk.set_mode_targeted_random()\n",
        "    for epoch in range(epochs):\n",
        "        correct, total, epoch_loss = 0, 0, 0.0\n",
        "        for images, labels in trainloader:\n",
        "            optimizer.zero_grad()\n",
        "            adv_images = atk(images, labels)\n",
        "            outputs = net(adv_images)\n",
        "            loss = criterion(outputs, labels)\n",
        "            loss.backward()\n",
        "            optimizer.step()\n",
        "\n",
        "            epoch_loss += loss\n",
        "            total += labels.size(0)\n",
        "            correct += (torch.max(outputs.data, 1)[1] == labels).sum().item()\n",
        "        epoch_loss /= len(trainloader.dataset)\n",
        "        epoch_acc = correct / total\n",
        "        if verbose:\n",
        "            print(f\"Epoch {epoch+1}: train loss {epoch_loss}, accuracy {epoch_acc}\")\n",
        "\n",
        "\n",
        "def test(net, testloader):\n",
        "    criterion = torch.nn.CrossEntropyLoss()\n",
        "    correct, total, loss = 0, 0, 0.0\n",
        "    net.eval()\n",
        "    with torch.no_grad():\n",
        "        for images, labels in testloader:\n",
        "            outputs = net(images)\n",
        "            loss += criterion(outputs, labels).item()\n",
        "            _, predicted = torch.max(outputs.data, 1)\n",
        "            total += labels.size(0)\n",
        "            correct += (predicted == labels).sum().item()\n",
        "    loss /= len(testloader.dataset)\n",
        "    accuracy = correct / total\n",
        "    return loss, accuracy\n",
        "\n",
        "def eval_robust(net, testloader):\n",
        "    criterion = torch.nn.CrossEntropyLoss()\n",
        "    correct, total, loss = 0, 0, 0.0\n",
        "    net.eval()\n",
        "    atk = PGD(net, eps=8/255, alpha=2/225, steps=10, random_start=True)\n",
        "    atk.set_mode_targeted_random()\n",
        "    with torch.enable_grad():\n",
        "        for images, labels in testloader:\n",
        "            adv_images = atk(images, labels)\n",
        "            outputs = net(adv_images)\n",
        "            loss += criterion(outputs, labels).item()\n",
        "            _, predicted = torch.max(outputs.data, 1)\n",
        "            total += labels.size(0)\n",
        "            correct += (predicted == labels).sum().item()\n",
        "    loss /= len(testloader.dataset)\n",
        "    accuracy = correct / total\n",
        "    return loss, accuracy"
      ]
    },
    {
      "cell_type": "markdown",
      "source": [
        "## Sunucudan parametreleri almak ve sunucuya parametreleri göndermek için fonksiyonların tanımlanması"
      ],
      "metadata": {
        "id": "sfxQNKfee8OX"
      },
      "id": "sfxQNKfee8OX"
    },
    {
      "cell_type": "code",
      "execution_count": null,
      "id": "066dbaeb-cef5-4993-b439-d34568f173f4",
      "metadata": {
        "id": "066dbaeb-cef5-4993-b439-d34568f173f4"
      },
      "outputs": [],
      "source": [
        "def get_parameters(net) -> List[np.ndarray]:\n",
        "    return [val.cpu().numpy() for _, val in net.state_dict().items()]\n",
        "\n",
        "\n",
        "def set_parameters(net, parameters: List[np.ndarray]):\n",
        "    params_dict = zip(net.state_dict().keys(), parameters)\n",
        "    state_dict = OrderedDict({k: torch.Tensor(v) for k, v in params_dict})\n",
        "    net.load_state_dict(state_dict, strict=True)"
      ]
    },
    {
      "cell_type": "markdown",
      "source": [
        "## Client sınıfının oluşturulması"
      ],
      "metadata": {
        "id": "puIJMxdRgED2"
      },
      "id": "puIJMxdRgED2"
    },
    {
      "cell_type": "code",
      "execution_count": null,
      "id": "3e168a1f-7662-43ee-9682-282c95715227",
      "metadata": {
        "id": "3e168a1f-7662-43ee-9682-282c95715227"
      },
      "outputs": [],
      "source": [
        "class FlowerClient(fl.client.NumPyClient):\n",
        "    def __init__(self, net, trainloader, testloader):\n",
        "        self.net = net\n",
        "        self.trainloader = trainloader\n",
        "        self.testloader = testloader\n",
        "\n",
        "    def get_parameters(self, config):\n",
        "        return get_parameters(self.net)\n",
        "\n",
        "    def fit(self, parameters, config):\n",
        "        set_parameters(self.net, parameters)\n",
        "        train(self.net, self.trainloader, epochs=5)\n",
        "        return get_parameters(self.net), len(self.trainloader), {}\n",
        "\n",
        "    def evaluate(self, parameters, config):\n",
        "        set_parameters(self.net, parameters)\n",
        "        loss1, robust = eval_robust(self.net, self.testloader)\n",
        "        loss2, clean = test(self.net, self.testloader)\n",
        "        return float(loss2), len(self.testloader), {\"clean_acc\": float(clean), \"robust_acc\": float(robust), \"robust_loss\": float(loss1)}"
      ]
    },
    {
      "cell_type": "markdown",
      "source": [
        "## Clientleri çağırma fonksiyonun tanımlanması"
      ],
      "metadata": {
        "id": "K-I8NjVogNAv"
      },
      "id": "K-I8NjVogNAv"
    },
    {
      "cell_type": "code",
      "execution_count": null,
      "id": "39bc1b13-103a-42fc-9916-026739043b9d",
      "metadata": {
        "id": "39bc1b13-103a-42fc-9916-026739043b9d"
      },
      "outputs": [],
      "source": [
        "def client_fn(cid: str) -> FlowerClient:\n",
        "\n",
        "    net = Net().to()\n",
        "\n",
        "    trainloader = trainloaders[int(cid)]\n",
        "    testloader = testloaders[int(cid)]\n",
        "\n",
        "    return FlowerClient(net, trainloader, testloader)"
      ]
    },
    {
      "cell_type": "markdown",
      "source": [
        "## Loss dışındaki metriklerin hesaplanması için tanımlanan fonksiyon"
      ],
      "metadata": {
        "id": "FNKl71FCh20v"
      },
      "id": "FNKl71FCh20v"
    },
    {
      "cell_type": "code",
      "execution_count": null,
      "id": "89d7ffe8-2350-4fe0-b089-7369de48018f",
      "metadata": {
        "id": "89d7ffe8-2350-4fe0-b089-7369de48018f"
      },
      "outputs": [],
      "source": [
        "def weighted_average(metrics: List[Tuple[int, Metrics]]) -> Metrics:\n",
        "    cleans = [num_examples * m[\"clean_acc\"] for num_examples, m in metrics]\n",
        "    robusts = [num_examples * m[\"robust_acc\"] for num_examples, m in metrics]\n",
        "    losses = [num_examples * m[\"robust_loss\"] for num_examples, m in metrics]\n",
        "    examples = [num_examples for num_examples, _ in metrics]\n",
        "\n",
        "    return {\"clean_acc\": sum(cleans) / sum(examples), \"robust_acc\": sum(robusts) / sum(examples), \"robust_loss\": sum(losses) / sum(examples)}"
      ]
    },
    {
      "cell_type": "markdown",
      "source": [
        "## Aggregation algoritmasının belirlenmesi ve simülasyonun yapılması"
      ],
      "metadata": {
        "id": "2RZ-BENQjiwe"
      },
      "id": "2RZ-BENQjiwe"
    },
    {
      "cell_type": "code",
      "source": [
        "strategy = fl.server.strategy.FedAvg(\n",
        "    fraction_fit=0.2,\n",
        "    fraction_evaluate=0.1,\n",
        "    min_fit_clients=10,\n",
        "    min_evaluate_clients=5,\n",
        "    min_available_clients=int(NUM_CLIENTS*0.50),\n",
        "    evaluate_metrics_aggregation_fn= weighted_average,\n",
        ")\n",
        "\n",
        "client_resources = {\"num_cpus\": 1, \"num_gpus\": 0.0}\n",
        "\n",
        "\n",
        "fl.simulation.start_simulation(\n",
        "    client_fn=client_fn,\n",
        "    num_clients=NUM_CLIENTS,\n",
        "    config=fl.server.ServerConfig(num_rounds=10),\n",
        "    strategy=strategy,\n",
        "    client_resources=client_resources,\n",
        ")"
      ],
      "metadata": {
        "colab": {
          "base_uri": "https://localhost:8080/"
        },
        "id": "mxjWSvYMGcoY",
        "outputId": "09584de3-03f5-4497-8a11-351cda151e11"
      },
      "id": "mxjWSvYMGcoY",
      "execution_count": null,
      "outputs": [
        {
          "metadata": {
            "tags": null
          },
          "name": "stderr",
          "output_type": "stream",
          "text": [
            "INFO flwr 2023-10-26 19:07:16,488 | app.py:175 | Starting Flower simulation, config: ServerConfig(num_rounds=10, round_timeout=None)\n",
            "INFO:flwr:Starting Flower simulation, config: ServerConfig(num_rounds=10, round_timeout=None)\n",
            "2023-10-26 19:07:20,972\tINFO worker.py:1621 -- Started a local Ray instance.\n",
            "INFO flwr 2023-10-26 19:07:25,300 | app.py:210 | Flower VCE: Ray initialized with resources: {'CPU': 2.0, 'object_store_memory': 3933854515.0, 'memory': 7867709031.0, 'node:172.28.0.12': 1.0, 'node:__internal_head__': 1.0}\n",
            "INFO:flwr:Flower VCE: Ray initialized with resources: {'CPU': 2.0, 'object_store_memory': 3933854515.0, 'memory': 7867709031.0, 'node:172.28.0.12': 1.0, 'node:__internal_head__': 1.0}\n",
            "INFO flwr 2023-10-26 19:07:25,305 | app.py:224 | Flower VCE: Resources for each Virtual Client: {'num_cpus': 1, 'num_gpus': 0.0}\n",
            "INFO:flwr:Flower VCE: Resources for each Virtual Client: {'num_cpus': 1, 'num_gpus': 0.0}\n",
            "INFO flwr 2023-10-26 19:07:25,389 | app.py:270 | Flower VCE: Creating VirtualClientEngineActorPool with 2 actors\n",
            "INFO:flwr:Flower VCE: Creating VirtualClientEngineActorPool with 2 actors\n",
            "INFO flwr 2023-10-26 19:07:25,393 | server.py:89 | Initializing global parameters\n",
            "INFO:flwr:Initializing global parameters\n",
            "INFO flwr 2023-10-26 19:07:25,395 | server.py:276 | Requesting initial parameters from one random client\n",
            "INFO:flwr:Requesting initial parameters from one random client\n",
            "\u001b[2m\u001b[36m(pid=806)\u001b[0m 2023-10-26 19:07:31.465256: E tensorflow/compiler/xla/stream_executor/cuda/cuda_dnn.cc:9342] Unable to register cuDNN factory: Attempting to register factory for plugin cuDNN when one has already been registered\n",
            "\u001b[2m\u001b[36m(pid=806)\u001b[0m 2023-10-26 19:07:31.465335: E tensorflow/compiler/xla/stream_executor/cuda/cuda_fft.cc:609] Unable to register cuFFT factory: Attempting to register factory for plugin cuFFT when one has already been registered\n",
            "\u001b[2m\u001b[36m(pid=806)\u001b[0m 2023-10-26 19:07:31.465373: E tensorflow/compiler/xla/stream_executor/cuda/cuda_blas.cc:1518] Unable to register cuBLAS factory: Attempting to register factory for plugin cuBLAS when one has already been registered\n",
            "\u001b[2m\u001b[36m(pid=806)\u001b[0m 2023-10-26 19:07:33.646001: W tensorflow/compiler/tf2tensorrt/utils/py_utils.cc:38] TF-TRT Warning: Could not find TensorRT\n",
            "INFO flwr 2023-10-26 19:07:39,514 | server.py:280 | Received initial parameters from one random client\n",
            "INFO:flwr:Received initial parameters from one random client\n",
            "INFO flwr 2023-10-26 19:07:39,519 | server.py:91 | Evaluating initial parameters\n",
            "INFO:flwr:Evaluating initial parameters\n",
            "INFO flwr 2023-10-26 19:07:39,522 | server.py:104 | FL starting\n",
            "INFO:flwr:FL starting\n",
            "DEBUG flwr 2023-10-26 19:07:39,524 | server.py:222 | fit_round 1: strategy sampled 10 clients (out of 50)\n",
            "DEBUG:flwr:fit_round 1: strategy sampled 10 clients (out of 50)\n"
          ]
        },
        {
          "metadata": {
            "tags": null
          },
          "name": "stdout",
          "output_type": "stream",
          "text": [
            "\u001b[2m\u001b[36m(DefaultActor pid=806)\u001b[0m Attack mode is changed to 'targeted(random)'.\n",
            "\u001b[2m\u001b[36m(DefaultActor pid=805)\u001b[0m Attack mode is changed to 'targeted(random)'.\n",
            "\u001b[2m\u001b[36m(DefaultActor pid=806)\u001b[0m Attack mode is changed to 'targeted(random)'.\n",
            "\u001b[2m\u001b[36m(DefaultActor pid=805)\u001b[0m Attack mode is changed to 'targeted(random)'.\n",
            "\u001b[2m\u001b[36m(DefaultActor pid=806)\u001b[0m Attack mode is changed to 'targeted(random)'.\n",
            "\u001b[2m\u001b[36m(DefaultActor pid=805)\u001b[0m Attack mode is changed to 'targeted(random)'.\n",
            "\u001b[2m\u001b[36m(DefaultActor pid=806)\u001b[0m Attack mode is changed to 'targeted(random)'.\n",
            "\u001b[2m\u001b[36m(DefaultActor pid=805)\u001b[0m Attack mode is changed to 'targeted(random)'.\n",
            "\u001b[2m\u001b[36m(DefaultActor pid=806)\u001b[0m Attack mode is changed to 'targeted(random)'.\n",
            "\u001b[2m\u001b[36m(DefaultActor pid=805)\u001b[0m Attack mode is changed to 'targeted(random)'.\n"
          ]
        },
        {
          "metadata": {
            "tags": null
          },
          "name": "stderr",
          "output_type": "stream",
          "text": [
            "DEBUG flwr 2023-10-26 19:12:23,984 | server.py:236 | fit_round 1 received 10 results and 0 failures\n",
            "DEBUG:flwr:fit_round 1 received 10 results and 0 failures\n",
            "WARNING flwr 2023-10-26 19:12:24,020 | fedavg.py:242 | No fit_metrics_aggregation_fn provided\n",
            "WARNING:flwr:No fit_metrics_aggregation_fn provided\n",
            "DEBUG flwr 2023-10-26 19:12:24,025 | server.py:173 | evaluate_round 1: strategy sampled 5 clients (out of 50)\n",
            "DEBUG:flwr:evaluate_round 1: strategy sampled 5 clients (out of 50)\n"
          ]
        },
        {
          "metadata": {
            "tags": null
          },
          "name": "stdout",
          "output_type": "stream",
          "text": [
            "\u001b[2m\u001b[36m(DefaultActor pid=805)\u001b[0m Attack mode is changed to 'targeted(random)'.\n",
            "\u001b[2m\u001b[36m(DefaultActor pid=805)\u001b[0m Attack mode is changed to 'targeted(random)'.\u001b[32m [repeated 2x across cluster] (Ray deduplicates logs by default. Set RAY_DEDUP_LOGS=0 to disable log deduplication, or see https://docs.ray.io/en/master/ray-observability/ray-logging.html#log-deduplication for more options.)\u001b[0m\n"
          ]
        },
        {
          "metadata": {
            "tags": null
          },
          "name": "stderr",
          "output_type": "stream",
          "text": [
            "DEBUG flwr 2023-10-26 19:12:40,128 | server.py:187 | evaluate_round 1 received 5 results and 0 failures\n",
            "DEBUG:flwr:evaluate_round 1 received 5 results and 0 failures\n",
            "DEBUG flwr 2023-10-26 19:12:40,135 | server.py:222 | fit_round 2: strategy sampled 10 clients (out of 50)\n",
            "DEBUG:flwr:fit_round 2: strategy sampled 10 clients (out of 50)\n"
          ]
        },
        {
          "metadata": {
            "tags": null
          },
          "name": "stdout",
          "output_type": "stream",
          "text": [
            "\u001b[2m\u001b[36m(DefaultActor pid=805)\u001b[0m Attack mode is changed to 'targeted(random)'.\u001b[32m [repeated 3x across cluster]\u001b[0m\n",
            "\u001b[2m\u001b[36m(DefaultActor pid=805)\u001b[0m Attack mode is changed to 'targeted(random)'.\u001b[32m [repeated 2x across cluster]\u001b[0m\n",
            "\u001b[2m\u001b[36m(DefaultActor pid=805)\u001b[0m Attack mode is changed to 'targeted(random)'.\u001b[32m [repeated 2x across cluster]\u001b[0m\n",
            "\u001b[2m\u001b[36m(DefaultActor pid=805)\u001b[0m Attack mode is changed to 'targeted(random)'.\u001b[32m [repeated 2x across cluster]\u001b[0m\n",
            "\u001b[2m\u001b[36m(DefaultActor pid=805)\u001b[0m Attack mode is changed to 'targeted(random)'.\u001b[32m [repeated 2x across cluster]\u001b[0m\n"
          ]
        },
        {
          "metadata": {
            "tags": null
          },
          "name": "stderr",
          "output_type": "stream",
          "text": [
            "DEBUG flwr 2023-10-26 19:17:32,960 | server.py:236 | fit_round 2 received 10 results and 0 failures\n",
            "DEBUG:flwr:fit_round 2 received 10 results and 0 failures\n",
            "DEBUG flwr 2023-10-26 19:17:33,027 | server.py:173 | evaluate_round 2: strategy sampled 5 clients (out of 50)\n",
            "DEBUG:flwr:evaluate_round 2: strategy sampled 5 clients (out of 50)\n"
          ]
        },
        {
          "metadata": {
            "tags": null
          },
          "name": "stdout",
          "output_type": "stream",
          "text": [
            "\u001b[2m\u001b[36m(DefaultActor pid=806)\u001b[0m Attack mode is changed to 'targeted(random)'.\u001b[32m [repeated 2x across cluster]\u001b[0m\n",
            "\u001b[2m\u001b[36m(DefaultActor pid=806)\u001b[0m Attack mode is changed to 'targeted(random)'.\u001b[32m [repeated 2x across cluster]\u001b[0m\n"
          ]
        },
        {
          "metadata": {
            "tags": null
          },
          "name": "stderr",
          "output_type": "stream",
          "text": [
            "DEBUG flwr 2023-10-26 19:17:50,671 | server.py:187 | evaluate_round 2 received 5 results and 0 failures\n",
            "DEBUG:flwr:evaluate_round 2 received 5 results and 0 failures\n",
            "DEBUG flwr 2023-10-26 19:17:50,675 | server.py:222 | fit_round 3: strategy sampled 10 clients (out of 50)\n",
            "DEBUG:flwr:fit_round 3: strategy sampled 10 clients (out of 50)\n"
          ]
        },
        {
          "metadata": {
            "tags": null
          },
          "name": "stdout",
          "output_type": "stream",
          "text": [
            "\u001b[2m\u001b[36m(DefaultActor pid=806)\u001b[0m Attack mode is changed to 'targeted(random)'.\u001b[32m [repeated 3x across cluster]\u001b[0m\n",
            "\u001b[2m\u001b[36m(DefaultActor pid=806)\u001b[0m Attack mode is changed to 'targeted(random)'.\u001b[32m [repeated 2x across cluster]\u001b[0m\n",
            "\u001b[2m\u001b[36m(DefaultActor pid=806)\u001b[0m Attack mode is changed to 'targeted(random)'.\u001b[32m [repeated 2x across cluster]\u001b[0m\n",
            "\u001b[2m\u001b[36m(DefaultActor pid=806)\u001b[0m Attack mode is changed to 'targeted(random)'.\u001b[32m [repeated 2x across cluster]\u001b[0m\n",
            "\u001b[2m\u001b[36m(DefaultActor pid=806)\u001b[0m Attack mode is changed to 'targeted(random)'.\u001b[32m [repeated 2x across cluster]\u001b[0m\n"
          ]
        },
        {
          "metadata": {
            "tags": null
          },
          "name": "stderr",
          "output_type": "stream",
          "text": [
            "DEBUG flwr 2023-10-26 19:22:51,673 | server.py:236 | fit_round 3 received 10 results and 0 failures\n",
            "DEBUG:flwr:fit_round 3 received 10 results and 0 failures\n",
            "DEBUG flwr 2023-10-26 19:22:51,708 | server.py:173 | evaluate_round 3: strategy sampled 5 clients (out of 50)\n",
            "DEBUG:flwr:evaluate_round 3: strategy sampled 5 clients (out of 50)\n"
          ]
        },
        {
          "metadata": {
            "tags": null
          },
          "name": "stdout",
          "output_type": "stream",
          "text": [
            "\u001b[2m\u001b[36m(DefaultActor pid=805)\u001b[0m Attack mode is changed to 'targeted(random)'.\u001b[32m [repeated 2x across cluster]\u001b[0m\n",
            "\u001b[2m\u001b[36m(DefaultActor pid=805)\u001b[0m Attack mode is changed to 'targeted(random)'.\u001b[32m [repeated 2x across cluster]\u001b[0m\n"
          ]
        },
        {
          "metadata": {
            "tags": null
          },
          "name": "stderr",
          "output_type": "stream",
          "text": [
            "DEBUG flwr 2023-10-26 19:23:08,255 | server.py:187 | evaluate_round 3 received 5 results and 0 failures\n",
            "DEBUG:flwr:evaluate_round 3 received 5 results and 0 failures\n",
            "DEBUG flwr 2023-10-26 19:23:08,259 | server.py:222 | fit_round 4: strategy sampled 10 clients (out of 50)\n",
            "DEBUG:flwr:fit_round 4: strategy sampled 10 clients (out of 50)\n"
          ]
        },
        {
          "metadata": {
            "tags": null
          },
          "name": "stdout",
          "output_type": "stream",
          "text": [
            "\u001b[2m\u001b[36m(DefaultActor pid=805)\u001b[0m Attack mode is changed to 'targeted(random)'.\u001b[32m [repeated 3x across cluster]\u001b[0m\n",
            "\u001b[2m\u001b[36m(DefaultActor pid=805)\u001b[0m Attack mode is changed to 'targeted(random)'.\u001b[32m [repeated 2x across cluster]\u001b[0m\n",
            "\u001b[2m\u001b[36m(DefaultActor pid=805)\u001b[0m Attack mode is changed to 'targeted(random)'.\u001b[32m [repeated 2x across cluster]\u001b[0m\n",
            "\u001b[2m\u001b[36m(DefaultActor pid=805)\u001b[0m Attack mode is changed to 'targeted(random)'.\u001b[32m [repeated 2x across cluster]\u001b[0m\n",
            "\u001b[2m\u001b[36m(DefaultActor pid=805)\u001b[0m Attack mode is changed to 'targeted(random)'.\u001b[32m [repeated 2x across cluster]\u001b[0m\n"
          ]
        },
        {
          "metadata": {
            "tags": null
          },
          "name": "stderr",
          "output_type": "stream",
          "text": [
            "DEBUG flwr 2023-10-26 19:28:15,324 | server.py:236 | fit_round 4 received 10 results and 0 failures\n",
            "DEBUG:flwr:fit_round 4 received 10 results and 0 failures\n",
            "DEBUG flwr 2023-10-26 19:28:15,354 | server.py:173 | evaluate_round 4: strategy sampled 5 clients (out of 50)\n",
            "DEBUG:flwr:evaluate_round 4: strategy sampled 5 clients (out of 50)\n"
          ]
        },
        {
          "metadata": {
            "tags": null
          },
          "name": "stdout",
          "output_type": "stream",
          "text": [
            "\u001b[2m\u001b[36m(DefaultActor pid=806)\u001b[0m Attack mode is changed to 'targeted(random)'.\u001b[32m [repeated 2x across cluster]\u001b[0m\n",
            "\u001b[2m\u001b[36m(DefaultActor pid=805)\u001b[0m Attack mode is changed to 'targeted(random)'.\u001b[32m [repeated 3x across cluster]\u001b[0m\n"
          ]
        },
        {
          "metadata": {
            "tags": null
          },
          "name": "stderr",
          "output_type": "stream",
          "text": [
            "DEBUG flwr 2023-10-26 19:28:31,518 | server.py:187 | evaluate_round 4 received 5 results and 0 failures\n",
            "DEBUG:flwr:evaluate_round 4 received 5 results and 0 failures\n",
            "DEBUG flwr 2023-10-26 19:28:31,527 | server.py:222 | fit_round 5: strategy sampled 10 clients (out of 50)\n",
            "DEBUG:flwr:fit_round 5: strategy sampled 10 clients (out of 50)\n"
          ]
        },
        {
          "metadata": {
            "tags": null
          },
          "name": "stdout",
          "output_type": "stream",
          "text": [
            "\u001b[2m\u001b[36m(DefaultActor pid=806)\u001b[0m Attack mode is changed to 'targeted(random)'.\u001b[32m [repeated 2x across cluster]\u001b[0m\n",
            "\u001b[2m\u001b[36m(DefaultActor pid=806)\u001b[0m Attack mode is changed to 'targeted(random)'.\u001b[32m [repeated 2x across cluster]\u001b[0m\n",
            "\u001b[2m\u001b[36m(DefaultActor pid=806)\u001b[0m Attack mode is changed to 'targeted(random)'.\u001b[32m [repeated 2x across cluster]\u001b[0m\n",
            "\u001b[2m\u001b[36m(DefaultActor pid=805)\u001b[0m Attack mode is changed to 'targeted(random)'.\n",
            "\u001b[2m\u001b[36m(DefaultActor pid=806)\u001b[0m Attack mode is changed to 'targeted(random)'.\n",
            "\u001b[2m\u001b[36m(DefaultActor pid=806)\u001b[0m Attack mode is changed to 'targeted(random)'.\u001b[32m [repeated 2x across cluster]\u001b[0m\n",
            "\u001b[2m\u001b[36m(DefaultActor pid=805)\u001b[0m Attack mode is changed to 'targeted(random)'.\n"
          ]
        },
        {
          "metadata": {
            "tags": null
          },
          "name": "stderr",
          "output_type": "stream",
          "text": [
            "DEBUG flwr 2023-10-26 19:33:34,141 | server.py:236 | fit_round 5 received 10 results and 0 failures\n",
            "DEBUG:flwr:fit_round 5 received 10 results and 0 failures\n",
            "DEBUG flwr 2023-10-26 19:33:34,188 | server.py:173 | evaluate_round 5: strategy sampled 5 clients (out of 50)\n",
            "DEBUG:flwr:evaluate_round 5: strategy sampled 5 clients (out of 50)\n"
          ]
        },
        {
          "metadata": {
            "tags": null
          },
          "name": "stdout",
          "output_type": "stream",
          "text": [
            "\u001b[2m\u001b[36m(DefaultActor pid=805)\u001b[0m Attack mode is changed to 'targeted(random)'.\n",
            "\u001b[2m\u001b[36m(DefaultActor pid=806)\u001b[0m Attack mode is changed to 'targeted(random)'.\u001b[32m [repeated 3x across cluster]\u001b[0m\n"
          ]
        },
        {
          "metadata": {
            "tags": null
          },
          "name": "stderr",
          "output_type": "stream",
          "text": [
            "DEBUG flwr 2023-10-26 19:33:48,930 | server.py:187 | evaluate_round 5 received 5 results and 0 failures\n",
            "DEBUG:flwr:evaluate_round 5 received 5 results and 0 failures\n",
            "DEBUG flwr 2023-10-26 19:33:48,933 | server.py:222 | fit_round 6: strategy sampled 10 clients (out of 50)\n",
            "DEBUG:flwr:fit_round 6: strategy sampled 10 clients (out of 50)\n"
          ]
        },
        {
          "metadata": {
            "tags": null
          },
          "name": "stdout",
          "output_type": "stream",
          "text": [
            "\u001b[2m\u001b[36m(DefaultActor pid=805)\u001b[0m Attack mode is changed to 'targeted(random)'.\u001b[32m [repeated 2x across cluster]\u001b[0m\n",
            "\u001b[2m\u001b[36m(DefaultActor pid=805)\u001b[0m Attack mode is changed to 'targeted(random)'.\u001b[32m [repeated 2x across cluster]\u001b[0m\n",
            "\u001b[2m\u001b[36m(DefaultActor pid=805)\u001b[0m Attack mode is changed to 'targeted(random)'.\u001b[32m [repeated 2x across cluster]\u001b[0m\n",
            "\u001b[2m\u001b[36m(DefaultActor pid=805)\u001b[0m Attack mode is changed to 'targeted(random)'.\u001b[32m [repeated 2x across cluster]\u001b[0m\n",
            "\u001b[2m\u001b[36m(DefaultActor pid=805)\u001b[0m Attack mode is changed to 'targeted(random)'.\u001b[32m [repeated 2x across cluster]\u001b[0m\n"
          ]
        },
        {
          "metadata": {
            "tags": null
          },
          "name": "stderr",
          "output_type": "stream",
          "text": [
            "DEBUG flwr 2023-10-26 19:38:43,886 | server.py:236 | fit_round 6 received 10 results and 0 failures\n",
            "DEBUG:flwr:fit_round 6 received 10 results and 0 failures\n",
            "DEBUG flwr 2023-10-26 19:38:43,917 | server.py:173 | evaluate_round 6: strategy sampled 5 clients (out of 50)\n",
            "DEBUG:flwr:evaluate_round 6: strategy sampled 5 clients (out of 50)\n"
          ]
        },
        {
          "metadata": {
            "tags": null
          },
          "name": "stdout",
          "output_type": "stream",
          "text": [
            "\u001b[2m\u001b[36m(DefaultActor pid=806)\u001b[0m Attack mode is changed to 'targeted(random)'.\u001b[32m [repeated 2x across cluster]\u001b[0m\n",
            "\u001b[2m\u001b[36m(DefaultActor pid=806)\u001b[0m Attack mode is changed to 'targeted(random)'.\u001b[32m [repeated 2x across cluster]\u001b[0m\n"
          ]
        },
        {
          "metadata": {
            "tags": null
          },
          "name": "stderr",
          "output_type": "stream",
          "text": [
            "DEBUG flwr 2023-10-26 19:38:59,422 | server.py:187 | evaluate_round 6 received 5 results and 0 failures\n",
            "DEBUG:flwr:evaluate_round 6 received 5 results and 0 failures\n",
            "DEBUG flwr 2023-10-26 19:38:59,426 | server.py:222 | fit_round 7: strategy sampled 10 clients (out of 50)\n",
            "DEBUG:flwr:fit_round 7: strategy sampled 10 clients (out of 50)\n"
          ]
        },
        {
          "metadata": {
            "tags": null
          },
          "name": "stdout",
          "output_type": "stream",
          "text": [
            "\u001b[2m\u001b[36m(DefaultActor pid=806)\u001b[0m Attack mode is changed to 'targeted(random)'.\u001b[32m [repeated 3x across cluster]\u001b[0m\n",
            "\u001b[2m\u001b[36m(DefaultActor pid=806)\u001b[0m Attack mode is changed to 'targeted(random)'.\u001b[32m [repeated 2x across cluster]\u001b[0m\n",
            "\u001b[2m\u001b[36m(DefaultActor pid=806)\u001b[0m Attack mode is changed to 'targeted(random)'.\u001b[32m [repeated 2x across cluster]\u001b[0m\n",
            "\u001b[2m\u001b[36m(DefaultActor pid=805)\u001b[0m Attack mode is changed to 'targeted(random)'.\n",
            "\u001b[2m\u001b[36m(DefaultActor pid=806)\u001b[0m Attack mode is changed to 'targeted(random)'.\n",
            "\u001b[2m\u001b[36m(DefaultActor pid=805)\u001b[0m Attack mode is changed to 'targeted(random)'.\n",
            "\u001b[2m\u001b[36m(DefaultActor pid=806)\u001b[0m Attack mode is changed to 'targeted(random)'.\n"
          ]
        },
        {
          "metadata": {
            "tags": null
          },
          "name": "stderr",
          "output_type": "stream",
          "text": [
            "DEBUG flwr 2023-10-26 19:43:52,270 | server.py:236 | fit_round 7 received 10 results and 0 failures\n",
            "DEBUG:flwr:fit_round 7 received 10 results and 0 failures\n",
            "DEBUG flwr 2023-10-26 19:43:52,323 | server.py:173 | evaluate_round 7: strategy sampled 5 clients (out of 50)\n",
            "DEBUG:flwr:evaluate_round 7: strategy sampled 5 clients (out of 50)\n"
          ]
        },
        {
          "metadata": {
            "tags": null
          },
          "name": "stdout",
          "output_type": "stream",
          "text": [
            "\u001b[2m\u001b[36m(DefaultActor pid=805)\u001b[0m Attack mode is changed to 'targeted(random)'.\u001b[32m [repeated 2x across cluster]\u001b[0m\n",
            "\u001b[2m\u001b[36m(DefaultActor pid=805)\u001b[0m Attack mode is changed to 'targeted(random)'.\u001b[32m [repeated 2x across cluster]\u001b[0m\n",
            "\u001b[2m\u001b[36m(DefaultActor pid=806)\u001b[0m Attack mode is changed to 'targeted(random)'.\n",
            "\u001b[2m\u001b[36m(DefaultActor pid=805)\u001b[0m Attack mode is changed to 'targeted(random)'.\n"
          ]
        },
        {
          "metadata": {
            "tags": null
          },
          "name": "stderr",
          "output_type": "stream",
          "text": [
            "DEBUG flwr 2023-10-26 19:44:12,859 | server.py:187 | evaluate_round 7 received 5 results and 0 failures\n",
            "DEBUG:flwr:evaluate_round 7 received 5 results and 0 failures\n",
            "DEBUG flwr 2023-10-26 19:44:12,865 | server.py:222 | fit_round 8: strategy sampled 10 clients (out of 50)\n",
            "DEBUG:flwr:fit_round 8: strategy sampled 10 clients (out of 50)\n"
          ]
        },
        {
          "metadata": {
            "tags": null
          },
          "name": "stdout",
          "output_type": "stream",
          "text": [
            "\u001b[2m\u001b[36m(DefaultActor pid=805)\u001b[0m Attack mode is changed to 'targeted(random)'.\n",
            "\u001b[2m\u001b[36m(DefaultActor pid=806)\u001b[0m Attack mode is changed to 'targeted(random)'.\n",
            "\u001b[2m\u001b[36m(DefaultActor pid=805)\u001b[0m Attack mode is changed to 'targeted(random)'.\n",
            "\u001b[2m\u001b[36m(DefaultActor pid=806)\u001b[0m Attack mode is changed to 'targeted(random)'.\n",
            "\u001b[2m\u001b[36m(DefaultActor pid=805)\u001b[0m Attack mode is changed to 'targeted(random)'.\n",
            "\u001b[2m\u001b[36m(DefaultActor pid=806)\u001b[0m Attack mode is changed to 'targeted(random)'.\n",
            "\u001b[2m\u001b[36m(DefaultActor pid=805)\u001b[0m Attack mode is changed to 'targeted(random)'.\n",
            "\u001b[2m\u001b[36m(DefaultActor pid=806)\u001b[0m Attack mode is changed to 'targeted(random)'.\n",
            "\u001b[2m\u001b[36m(DefaultActor pid=806)\u001b[0m Attack mode is changed to 'targeted(random)'.\n",
            "\u001b[2m\u001b[36m(DefaultActor pid=805)\u001b[0m Attack mode is changed to 'targeted(random)'.\n"
          ]
        },
        {
          "metadata": {
            "tags": null
          },
          "name": "stderr",
          "output_type": "stream",
          "text": [
            "DEBUG flwr 2023-10-26 19:49:08,588 | server.py:236 | fit_round 8 received 10 results and 0 failures\n",
            "DEBUG:flwr:fit_round 8 received 10 results and 0 failures\n",
            "DEBUG flwr 2023-10-26 19:49:08,619 | server.py:173 | evaluate_round 8: strategy sampled 5 clients (out of 50)\n",
            "DEBUG:flwr:evaluate_round 8: strategy sampled 5 clients (out of 50)\n"
          ]
        },
        {
          "metadata": {
            "tags": null
          },
          "name": "stdout",
          "output_type": "stream",
          "text": [
            "\u001b[2m\u001b[36m(DefaultActor pid=805)\u001b[0m Attack mode is changed to 'targeted(random)'.\n",
            "\u001b[2m\u001b[36m(DefaultActor pid=806)\u001b[0m Attack mode is changed to 'targeted(random)'.\n",
            "\u001b[2m\u001b[36m(DefaultActor pid=805)\u001b[0m Attack mode is changed to 'targeted(random)'.\u001b[32m [repeated 3x across cluster]\u001b[0m\n"
          ]
        },
        {
          "metadata": {
            "tags": null
          },
          "name": "stderr",
          "output_type": "stream",
          "text": [
            "DEBUG flwr 2023-10-26 19:49:24,533 | server.py:187 | evaluate_round 8 received 5 results and 0 failures\n",
            "DEBUG:flwr:evaluate_round 8 received 5 results and 0 failures\n",
            "DEBUG flwr 2023-10-26 19:49:24,536 | server.py:222 | fit_round 9: strategy sampled 10 clients (out of 50)\n",
            "DEBUG:flwr:fit_round 9: strategy sampled 10 clients (out of 50)\n"
          ]
        },
        {
          "metadata": {
            "tags": null
          },
          "name": "stdout",
          "output_type": "stream",
          "text": [
            "\u001b[2m\u001b[36m(DefaultActor pid=806)\u001b[0m Attack mode is changed to 'targeted(random)'.\u001b[32m [repeated 2x across cluster]\u001b[0m\n",
            "\u001b[2m\u001b[36m(DefaultActor pid=805)\u001b[0m Attack mode is changed to 'targeted(random)'.\n",
            "\u001b[2m\u001b[36m(DefaultActor pid=806)\u001b[0m Attack mode is changed to 'targeted(random)'.\n",
            "\u001b[2m\u001b[36m(DefaultActor pid=805)\u001b[0m Attack mode is changed to 'targeted(random)'.\n",
            "\u001b[2m\u001b[36m(DefaultActor pid=806)\u001b[0m Attack mode is changed to 'targeted(random)'.\n",
            "\u001b[2m\u001b[36m(DefaultActor pid=805)\u001b[0m Attack mode is changed to 'targeted(random)'.\n",
            "\u001b[2m\u001b[36m(DefaultActor pid=806)\u001b[0m Attack mode is changed to 'targeted(random)'.\n",
            "\u001b[2m\u001b[36m(DefaultActor pid=805)\u001b[0m Attack mode is changed to 'targeted(random)'.\n",
            "\u001b[2m\u001b[36m(DefaultActor pid=806)\u001b[0m Attack mode is changed to 'targeted(random)'.\n"
          ]
        },
        {
          "metadata": {
            "tags": null
          },
          "name": "stderr",
          "output_type": "stream",
          "text": [
            "DEBUG flwr 2023-10-26 19:54:30,897 | server.py:236 | fit_round 9 received 10 results and 0 failures\n",
            "DEBUG:flwr:fit_round 9 received 10 results and 0 failures\n",
            "DEBUG flwr 2023-10-26 19:54:30,928 | server.py:173 | evaluate_round 9: strategy sampled 5 clients (out of 50)\n",
            "DEBUG:flwr:evaluate_round 9: strategy sampled 5 clients (out of 50)\n"
          ]
        },
        {
          "metadata": {
            "tags": null
          },
          "name": "stdout",
          "output_type": "stream",
          "text": [
            "\u001b[2m\u001b[36m(DefaultActor pid=806)\u001b[0m Attack mode is changed to 'targeted(random)'.\n",
            "\u001b[2m\u001b[36m(DefaultActor pid=805)\u001b[0m Attack mode is changed to 'targeted(random)'.\n",
            "\u001b[2m\u001b[36m(DefaultActor pid=806)\u001b[0m Attack mode is changed to 'targeted(random)'.\n",
            "\u001b[2m\u001b[36m(DefaultActor pid=805)\u001b[0m Attack mode is changed to 'targeted(random)'.\n"
          ]
        },
        {
          "metadata": {
            "tags": null
          },
          "name": "stderr",
          "output_type": "stream",
          "text": [
            "DEBUG flwr 2023-10-26 19:54:52,019 | server.py:187 | evaluate_round 9 received 5 results and 0 failures\n",
            "DEBUG:flwr:evaluate_round 9 received 5 results and 0 failures\n",
            "DEBUG flwr 2023-10-26 19:54:52,022 | server.py:222 | fit_round 10: strategy sampled 10 clients (out of 50)\n",
            "DEBUG:flwr:fit_round 10: strategy sampled 10 clients (out of 50)\n"
          ]
        },
        {
          "output_type": "stream",
          "name": "stdout",
          "text": [
            "\u001b[2m\u001b[36m(DefaultActor pid=806)\u001b[0m Attack mode is changed to 'targeted(random)'.\u001b[32m [repeated 2x across cluster]\u001b[0m\n",
            "\u001b[2m\u001b[36m(DefaultActor pid=806)\u001b[0m Attack mode is changed to 'targeted(random)'.\u001b[32m [repeated 2x across cluster]\u001b[0m\n",
            "\u001b[2m\u001b[36m(DefaultActor pid=806)\u001b[0m Attack mode is changed to 'targeted(random)'.\u001b[32m [repeated 2x across cluster]\u001b[0m\n",
            "\u001b[2m\u001b[36m(DefaultActor pid=806)\u001b[0m Attack mode is changed to 'targeted(random)'.\u001b[32m [repeated 2x across cluster]\u001b[0m\n",
            "\u001b[2m\u001b[36m(DefaultActor pid=806)\u001b[0m Attack mode is changed to 'targeted(random)'.\u001b[32m [repeated 2x across cluster]\u001b[0m\n"
          ]
        },
        {
          "output_type": "stream",
          "name": "stderr",
          "text": [
            "DEBUG flwr 2023-10-26 19:59:54,742 | server.py:236 | fit_round 10 received 10 results and 0 failures\n",
            "DEBUG:flwr:fit_round 10 received 10 results and 0 failures\n",
            "DEBUG flwr 2023-10-26 19:59:54,784 | server.py:173 | evaluate_round 10: strategy sampled 5 clients (out of 50)\n",
            "DEBUG:flwr:evaluate_round 10: strategy sampled 5 clients (out of 50)\n"
          ]
        },
        {
          "output_type": "stream",
          "name": "stdout",
          "text": [
            "\u001b[2m\u001b[36m(DefaultActor pid=805)\u001b[0m Attack mode is changed to 'targeted(random)'.\u001b[32m [repeated 2x across cluster]\u001b[0m\n",
            "\u001b[2m\u001b[36m(DefaultActor pid=806)\u001b[0m Attack mode is changed to 'targeted(random)'.\u001b[32m [repeated 3x across cluster]\u001b[0m\n"
          ]
        },
        {
          "output_type": "stream",
          "name": "stderr",
          "text": [
            "DEBUG flwr 2023-10-26 20:00:09,292 | server.py:187 | evaluate_round 10 received 5 results and 0 failures\n",
            "DEBUG:flwr:evaluate_round 10 received 5 results and 0 failures\n",
            "INFO flwr 2023-10-26 20:00:09,301 | server.py:153 | FL finished in 3149.776293682\n",
            "INFO:flwr:FL finished in 3149.776293682\n",
            "INFO flwr 2023-10-26 20:00:09,304 | app.py:225 | app_fit: losses_distributed [(1, 0.2814656217098236), (2, 0.2205262883901596), (3, 0.200264433324337), (4, 0.1925220269560814), (5, 0.1893714345097542), (6, 0.184617946267128), (7, 0.1751535950899124), (8, 0.17065585291385652), (9, 0.17524657595157622), (10, 0.17015070635080337)]\n",
            "INFO:flwr:app_fit: losses_distributed [(1, 0.2814656217098236), (2, 0.2205262883901596), (3, 0.200264433324337), (4, 0.1925220269560814), (5, 0.1893714345097542), (6, 0.184617946267128), (7, 0.1751535950899124), (8, 0.17065585291385652), (9, 0.17524657595157622), (10, 0.17015070635080337)]\n",
            "INFO flwr 2023-10-26 20:00:09,307 | app.py:226 | app_fit: metrics_distributed_fit {}\n",
            "INFO:flwr:app_fit: metrics_distributed_fit {}\n",
            "INFO flwr 2023-10-26 20:00:09,309 | app.py:227 | app_fit: metrics_distributed {'clean_acc': [(1, 0.295), (2, 0.362), (3, 0.432), (4, 0.422), (5, 0.46), (6, 0.469), (7, 0.467), (8, 0.493), (9, 0.504), (10, 0.497)], 'robust_acc': [(1, 0.235), (2, 0.307), (3, 0.356), (4, 0.358), (5, 0.392), (6, 0.369), (7, 0.405), (8, 0.391), (9, 0.399), (10, 0.412)], 'robust_loss': [(1, 0.2825552144050598), (2, 0.2352110366821289), (3, 0.22155757546424865), (4, 0.21331143283843995), (5, 0.21146640920639037), (6, 0.210209277510643), (7, 0.20204649609327316), (8, 0.2006415713429451), (9, 0.2058177627325058), (10, 0.1988509269952774)]}\n",
            "INFO:flwr:app_fit: metrics_distributed {'clean_acc': [(1, 0.295), (2, 0.362), (3, 0.432), (4, 0.422), (5, 0.46), (6, 0.469), (7, 0.467), (8, 0.493), (9, 0.504), (10, 0.497)], 'robust_acc': [(1, 0.235), (2, 0.307), (3, 0.356), (4, 0.358), (5, 0.392), (6, 0.369), (7, 0.405), (8, 0.391), (9, 0.399), (10, 0.412)], 'robust_loss': [(1, 0.2825552144050598), (2, 0.2352110366821289), (3, 0.22155757546424865), (4, 0.21331143283843995), (5, 0.21146640920639037), (6, 0.210209277510643), (7, 0.20204649609327316), (8, 0.2006415713429451), (9, 0.2058177627325058), (10, 0.1988509269952774)]}\n",
            "INFO flwr 2023-10-26 20:00:09,311 | app.py:228 | app_fit: losses_centralized []\n",
            "INFO:flwr:app_fit: losses_centralized []\n",
            "INFO flwr 2023-10-26 20:00:09,313 | app.py:229 | app_fit: metrics_centralized {}\n",
            "INFO:flwr:app_fit: metrics_centralized {}\n"
          ]
        },
        {
          "output_type": "execute_result",
          "data": {
            "text/plain": [
              "History (loss, distributed):\n",
              "\tround 1: 0.2814656217098236\n",
              "\tround 2: 0.2205262883901596\n",
              "\tround 3: 0.200264433324337\n",
              "\tround 4: 0.1925220269560814\n",
              "\tround 5: 0.1893714345097542\n",
              "\tround 6: 0.184617946267128\n",
              "\tround 7: 0.1751535950899124\n",
              "\tround 8: 0.17065585291385652\n",
              "\tround 9: 0.17524657595157622\n",
              "\tround 10: 0.17015070635080337\n",
              "History (metrics, distributed, evaluate):\n",
              "{'clean_acc': [(1, 0.295), (2, 0.362), (3, 0.432), (4, 0.422), (5, 0.46), (6, 0.469), (7, 0.467), (8, 0.493), (9, 0.504), (10, 0.497)], 'robust_acc': [(1, 0.235), (2, 0.307), (3, 0.356), (4, 0.358), (5, 0.392), (6, 0.369), (7, 0.405), (8, 0.391), (9, 0.399), (10, 0.412)], 'robust_loss': [(1, 0.2825552144050598), (2, 0.2352110366821289), (3, 0.22155757546424865), (4, 0.21331143283843995), (5, 0.21146640920639037), (6, 0.210209277510643), (7, 0.20204649609327316), (8, 0.2006415713429451), (9, 0.2058177627325058), (10, 0.1988509269952774)]}"
            ]
          },
          "metadata": {},
          "execution_count": 15
        }
      ]
    }
  ],
  "metadata": {
    "kernelspec": {
      "display_name": "Python 3 (ipykernel)",
      "language": "python",
      "name": "python3"
    },
    "language_info": {
      "codemirror_mode": {
        "name": "ipython",
        "version": 3
      },
      "file_extension": ".py",
      "mimetype": "text/x-python",
      "name": "python",
      "nbconvert_exporter": "python",
      "pygments_lexer": "ipython3",
      "version": "3.8.10"
    },
    "colab": {
      "provenance": []
    }
  },
  "nbformat": 4,
  "nbformat_minor": 5
}